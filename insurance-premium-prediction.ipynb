{
 "cells": [
  {
   "cell_type": "markdown",
   "id": "2a50308c",
   "metadata": {
    "papermill": {
     "duration": 0.004183,
     "end_time": "2025-08-17T06:27:56.592299",
     "exception": false,
     "start_time": "2025-08-17T06:27:56.588116",
     "status": "completed"
    },
    "tags": []
   },
   "source": [
    "# 🏆 About Project "
   ]
  },
  {
   "cell_type": "markdown",
   "id": "c6dad7cb",
   "metadata": {
    "papermill": {
     "duration": 0.003245,
     "end_time": "2025-08-17T06:27:56.599114",
     "exception": false,
     "start_time": "2025-08-17T06:27:56.595869",
     "status": "completed"
    },
    "tags": []
   },
   "source": [
    "## 🎯  Objective \n",
    "\n",
    "Insurance companies need to accurately predict the cost of health insurance for individuals to set premiums appropriately. However, traditional methods of cost prediction often rely on broad actuarial tables and historical averages, which may not account for the nuanced differences among individuals. By leveraging machine learning techniques, insurers can predict more accurately the insurance costs tailored to individual profiles, leading to more competitive pricing and better risk management.\n",
    "\n",
    "**Insurance Cost Prediction need**\n",
    "The primary need for this project arises from the challenges insurers face in pricing policies accurately while remaining competitive in the market. Inaccurate predictions can lead to losses for insurers and unfairly high premiums for policyholders. By implementing a machine learning model, insurers can:\n",
    "- Enhance Precision in Pricing: Use individual data points to determine premiums that reflect actual risk more closely than generic estimates.\n",
    "- Increase Competitiveness: Offer rates that are attractive to consumers while ensuring that the pricing is sustainable for the insurer.\n",
    "- Improve Customer Satisfaction: Fair and transparent pricing based on personal health data can increase trust and satisfaction among policyholders.\n",
    "- Enable Personalized Offerings: Create customized insurance packages based on predicted costs, which can cater more directly to the needs and preferences of individuals.\n",
    "- Risk Assessment: Insurers can use the model to refine their risk assessment processes, identifying key factors that influence costs most significantly.\n",
    "- Policy Development: The insights gained from the model can inform the development of new insurance products or adjustments to existing ones.\n",
    "- Strategic Decision Making: Predictive analytics can aid in broader strategic decisions, such as entering new markets or adjusting policy terms based on risk predictions.\n",
    "- Customer Engagement: Insights from the model can be used in customer engagement initiatives, such as personalized marketing and tailored advice for policyholders.\n"
   ]
  },
  {
   "cell_type": "markdown",
   "id": "4b606ce9",
   "metadata": {
    "papermill": {
     "duration": 0.003113,
     "end_time": "2025-08-17T06:27:56.605530",
     "exception": false,
     "start_time": "2025-08-17T06:27:56.602417",
     "status": "completed"
    },
    "tags": []
   },
   "source": [
    "## 📚 Data Description"
   ]
  },
  {
   "cell_type": "markdown",
   "id": "e8447ba0",
   "metadata": {
    "papermill": {
     "duration": 0.00317,
     "end_time": "2025-08-17T06:27:56.611958",
     "exception": false,
     "start_time": "2025-08-17T06:27:56.608788",
     "status": "completed"
    },
    "tags": []
   },
   "source": [
    "The dataset comprises the following 11 attributes:\n",
    "1. Age: Numeric, ranging from 18 to 66 years.\n",
    "2. Diabetes: Binary (0 or 1), where 1 indicates the presence of diabetes.\n",
    "3. BloodPressureProblems: Binary (0 or 1), indicating the presence of blood pressure-related issues.\n",
    "4. AnyTransplants: Binary (0 or 1), where 1 indicates the person has had a transplant.\n",
    "5. AnyChronicDiseases: Binary (0 or 1), indicating the presence of any chronic diseases.\n",
    "6. Height: Numeric, measured in centimeters, ranging from 145 cm to 188 cm.\n",
    "7. Weight: Numeric, measured in kilograms, ranging from 51 kg to 132 kg.\n",
    "8. KnownAllergies: Binary (0 or 1), where 1 indicates known allergies.\n",
    "9. HistoryOfCancerInFamily: Binary (0 or 1), indicating a family history of cancer.\n",
    "10. NumberOfMajorSurgeries: Numeric, counting the number of major surgeries, ranging from 0 to 3 surgeries.\n",
    "11. PremiumPrice: Numeric, representing the premium price in currency, ranging from 15,000 to 40,000.\n"
   ]
  },
  {
   "cell_type": "markdown",
   "id": "2f9b0195",
   "metadata": {
    "papermill": {
     "duration": 0.003155,
     "end_time": "2025-08-17T06:27:56.618384",
     "exception": false,
     "start_time": "2025-08-17T06:27:56.615229",
     "status": "completed"
    },
    "tags": []
   },
   "source": [
    "# 🚀 Let's Get Started"
   ]
  },
  {
   "cell_type": "markdown",
   "id": "cf51aa05",
   "metadata": {
    "papermill": {
     "duration": 0.003079,
     "end_time": "2025-08-17T06:27:56.624675",
     "exception": false,
     "start_time": "2025-08-17T06:27:56.621596",
     "status": "completed"
    },
    "tags": []
   },
   "source": [
    "## 📚 Importing Libraries"
   ]
  },
  {
   "cell_type": "code",
   "execution_count": 1,
   "id": "7c82c923",
   "metadata": {
    "execution": {
     "iopub.execute_input": "2025-08-17T06:27:56.632058Z",
     "iopub.status.busy": "2025-08-17T06:27:56.631855Z",
     "iopub.status.idle": "2025-08-17T06:28:00.202342Z",
     "shell.execute_reply": "2025-08-17T06:28:00.201735Z"
    },
    "papermill": {
     "duration": 3.57575,
     "end_time": "2025-08-17T06:28:00.203776",
     "exception": false,
     "start_time": "2025-08-17T06:27:56.628026",
     "status": "completed"
    },
    "tags": []
   },
   "outputs": [],
   "source": [
    "import numpy as np\n",
    "import pandas as pd \n",
    "import matplotlib.pyplot as plt\n",
    "import seaborn as sns\n",
    "import plotly.graph_objs as go\n",
    "import plotly.subplots as sp\n",
    "from plotly.subplots import make_subplots\n",
    "import plotly.express as px\n",
    "import warnings\n",
    "import time\n",
    "import datetime as dt\n",
    "warnings.filterwarnings(\"ignore\")"
   ]
  },
  {
   "cell_type": "markdown",
   "id": "6468f0f5",
   "metadata": {
    "papermill": {
     "duration": 0.003274,
     "end_time": "2025-08-17T06:28:00.211462",
     "exception": false,
     "start_time": "2025-08-17T06:28:00.208188",
     "status": "completed"
    },
    "tags": []
   },
   "source": [
    "## 📊 Importing Dataset"
   ]
  },
  {
   "cell_type": "code",
   "execution_count": 2,
   "id": "caf09501",
   "metadata": {
    "execution": {
     "iopub.execute_input": "2025-08-17T06:28:00.219144Z",
     "iopub.status.busy": "2025-08-17T06:28:00.218810Z",
     "iopub.status.idle": "2025-08-17T06:28:02.992227Z",
     "shell.execute_reply": "2025-08-17T06:28:02.991299Z"
    },
    "papermill": {
     "duration": 2.778909,
     "end_time": "2025-08-17T06:28:02.993702",
     "exception": false,
     "start_time": "2025-08-17T06:28:00.214793",
     "status": "completed"
    },
    "tags": []
   },
   "outputs": [
    {
     "name": "stdout",
     "output_type": "stream",
     "text": [
      "Downloading...\r\n",
      "From: https://drive.google.com/uc?id=1NBk1TFkK4NeKdodR2DxIdBp2Mk1mh4AS\r\n",
      "To: /kaggle/working/insurance.csv\r\n",
      "100%|██████████████████████████████████████| 30.8k/30.8k [00:00<00:00, 71.4MB/s]\r\n"
     ]
    }
   ],
   "source": [
    "! gdown 1NBk1TFkK4NeKdodR2DxIdBp2Mk1mh4AS"
   ]
  },
  {
   "cell_type": "code",
   "execution_count": 3,
   "id": "769997fb",
   "metadata": {
    "execution": {
     "iopub.execute_input": "2025-08-17T06:28:03.001859Z",
     "iopub.status.busy": "2025-08-17T06:28:03.001613Z",
     "iopub.status.idle": "2025-08-17T06:28:03.039586Z",
     "shell.execute_reply": "2025-08-17T06:28:03.038945Z"
    },
    "papermill": {
     "duration": 0.043195,
     "end_time": "2025-08-17T06:28:03.040658",
     "exception": false,
     "start_time": "2025-08-17T06:28:02.997463",
     "status": "completed"
    },
    "tags": []
   },
   "outputs": [
    {
     "data": {
      "text/html": [
       "<div>\n",
       "<style scoped>\n",
       "    .dataframe tbody tr th:only-of-type {\n",
       "        vertical-align: middle;\n",
       "    }\n",
       "\n",
       "    .dataframe tbody tr th {\n",
       "        vertical-align: top;\n",
       "    }\n",
       "\n",
       "    .dataframe thead th {\n",
       "        text-align: right;\n",
       "    }\n",
       "</style>\n",
       "<table border=\"1\" class=\"dataframe\">\n",
       "  <thead>\n",
       "    <tr style=\"text-align: right;\">\n",
       "      <th></th>\n",
       "      <th>Age</th>\n",
       "      <th>Diabetes</th>\n",
       "      <th>BloodPressureProblems</th>\n",
       "      <th>AnyTransplants</th>\n",
       "      <th>AnyChronicDiseases</th>\n",
       "      <th>Height</th>\n",
       "      <th>Weight</th>\n",
       "      <th>KnownAllergies</th>\n",
       "      <th>HistoryOfCancerInFamily</th>\n",
       "      <th>NumberOfMajorSurgeries</th>\n",
       "      <th>PremiumPrice</th>\n",
       "    </tr>\n",
       "  </thead>\n",
       "  <tbody>\n",
       "    <tr>\n",
       "      <th>0</th>\n",
       "      <td>45</td>\n",
       "      <td>0</td>\n",
       "      <td>0</td>\n",
       "      <td>0</td>\n",
       "      <td>0</td>\n",
       "      <td>155</td>\n",
       "      <td>57</td>\n",
       "      <td>0</td>\n",
       "      <td>0</td>\n",
       "      <td>0</td>\n",
       "      <td>25000</td>\n",
       "    </tr>\n",
       "    <tr>\n",
       "      <th>1</th>\n",
       "      <td>60</td>\n",
       "      <td>1</td>\n",
       "      <td>0</td>\n",
       "      <td>0</td>\n",
       "      <td>0</td>\n",
       "      <td>180</td>\n",
       "      <td>73</td>\n",
       "      <td>0</td>\n",
       "      <td>0</td>\n",
       "      <td>0</td>\n",
       "      <td>29000</td>\n",
       "    </tr>\n",
       "    <tr>\n",
       "      <th>2</th>\n",
       "      <td>36</td>\n",
       "      <td>1</td>\n",
       "      <td>1</td>\n",
       "      <td>0</td>\n",
       "      <td>0</td>\n",
       "      <td>158</td>\n",
       "      <td>59</td>\n",
       "      <td>0</td>\n",
       "      <td>0</td>\n",
       "      <td>1</td>\n",
       "      <td>23000</td>\n",
       "    </tr>\n",
       "    <tr>\n",
       "      <th>3</th>\n",
       "      <td>52</td>\n",
       "      <td>1</td>\n",
       "      <td>1</td>\n",
       "      <td>0</td>\n",
       "      <td>1</td>\n",
       "      <td>183</td>\n",
       "      <td>93</td>\n",
       "      <td>0</td>\n",
       "      <td>0</td>\n",
       "      <td>2</td>\n",
       "      <td>28000</td>\n",
       "    </tr>\n",
       "    <tr>\n",
       "      <th>4</th>\n",
       "      <td>38</td>\n",
       "      <td>0</td>\n",
       "      <td>0</td>\n",
       "      <td>0</td>\n",
       "      <td>1</td>\n",
       "      <td>166</td>\n",
       "      <td>88</td>\n",
       "      <td>0</td>\n",
       "      <td>0</td>\n",
       "      <td>1</td>\n",
       "      <td>23000</td>\n",
       "    </tr>\n",
       "    <tr>\n",
       "      <th>...</th>\n",
       "      <td>...</td>\n",
       "      <td>...</td>\n",
       "      <td>...</td>\n",
       "      <td>...</td>\n",
       "      <td>...</td>\n",
       "      <td>...</td>\n",
       "      <td>...</td>\n",
       "      <td>...</td>\n",
       "      <td>...</td>\n",
       "      <td>...</td>\n",
       "      <td>...</td>\n",
       "    </tr>\n",
       "    <tr>\n",
       "      <th>981</th>\n",
       "      <td>18</td>\n",
       "      <td>0</td>\n",
       "      <td>0</td>\n",
       "      <td>0</td>\n",
       "      <td>0</td>\n",
       "      <td>169</td>\n",
       "      <td>67</td>\n",
       "      <td>0</td>\n",
       "      <td>0</td>\n",
       "      <td>0</td>\n",
       "      <td>15000</td>\n",
       "    </tr>\n",
       "    <tr>\n",
       "      <th>982</th>\n",
       "      <td>64</td>\n",
       "      <td>1</td>\n",
       "      <td>1</td>\n",
       "      <td>0</td>\n",
       "      <td>0</td>\n",
       "      <td>153</td>\n",
       "      <td>70</td>\n",
       "      <td>0</td>\n",
       "      <td>0</td>\n",
       "      <td>3</td>\n",
       "      <td>28000</td>\n",
       "    </tr>\n",
       "    <tr>\n",
       "      <th>983</th>\n",
       "      <td>56</td>\n",
       "      <td>0</td>\n",
       "      <td>1</td>\n",
       "      <td>0</td>\n",
       "      <td>0</td>\n",
       "      <td>155</td>\n",
       "      <td>71</td>\n",
       "      <td>0</td>\n",
       "      <td>0</td>\n",
       "      <td>1</td>\n",
       "      <td>29000</td>\n",
       "    </tr>\n",
       "    <tr>\n",
       "      <th>984</th>\n",
       "      <td>47</td>\n",
       "      <td>1</td>\n",
       "      <td>1</td>\n",
       "      <td>0</td>\n",
       "      <td>0</td>\n",
       "      <td>158</td>\n",
       "      <td>73</td>\n",
       "      <td>1</td>\n",
       "      <td>0</td>\n",
       "      <td>1</td>\n",
       "      <td>39000</td>\n",
       "    </tr>\n",
       "    <tr>\n",
       "      <th>985</th>\n",
       "      <td>21</td>\n",
       "      <td>0</td>\n",
       "      <td>0</td>\n",
       "      <td>0</td>\n",
       "      <td>0</td>\n",
       "      <td>158</td>\n",
       "      <td>75</td>\n",
       "      <td>1</td>\n",
       "      <td>0</td>\n",
       "      <td>1</td>\n",
       "      <td>15000</td>\n",
       "    </tr>\n",
       "  </tbody>\n",
       "</table>\n",
       "<p>986 rows × 11 columns</p>\n",
       "</div>"
      ],
      "text/plain": [
       "     Age  Diabetes  BloodPressureProblems  AnyTransplants  AnyChronicDiseases  \\\n",
       "0     45         0                      0               0                   0   \n",
       "1     60         1                      0               0                   0   \n",
       "2     36         1                      1               0                   0   \n",
       "3     52         1                      1               0                   1   \n",
       "4     38         0                      0               0                   1   \n",
       "..   ...       ...                    ...             ...                 ...   \n",
       "981   18         0                      0               0                   0   \n",
       "982   64         1                      1               0                   0   \n",
       "983   56         0                      1               0                   0   \n",
       "984   47         1                      1               0                   0   \n",
       "985   21         0                      0               0                   0   \n",
       "\n",
       "     Height  Weight  KnownAllergies  HistoryOfCancerInFamily  \\\n",
       "0       155      57               0                        0   \n",
       "1       180      73               0                        0   \n",
       "2       158      59               0                        0   \n",
       "3       183      93               0                        0   \n",
       "4       166      88               0                        0   \n",
       "..      ...     ...             ...                      ...   \n",
       "981     169      67               0                        0   \n",
       "982     153      70               0                        0   \n",
       "983     155      71               0                        0   \n",
       "984     158      73               1                        0   \n",
       "985     158      75               1                        0   \n",
       "\n",
       "     NumberOfMajorSurgeries  PremiumPrice  \n",
       "0                         0         25000  \n",
       "1                         0         29000  \n",
       "2                         1         23000  \n",
       "3                         2         28000  \n",
       "4                         1         23000  \n",
       "..                      ...           ...  \n",
       "981                       0         15000  \n",
       "982                       3         28000  \n",
       "983                       1         29000  \n",
       "984                       1         39000  \n",
       "985                       1         15000  \n",
       "\n",
       "[986 rows x 11 columns]"
      ]
     },
     "execution_count": 3,
     "metadata": {},
     "output_type": "execute_result"
    }
   ],
   "source": [
    "df = pd.read_csv('/kaggle/working/insurance.csv')\n",
    "df"
   ]
  },
  {
   "cell_type": "markdown",
   "id": "bbb8cbca",
   "metadata": {
    "papermill": {
     "duration": 0.00358,
     "end_time": "2025-08-17T06:28:03.048285",
     "exception": false,
     "start_time": "2025-08-17T06:28:03.044705",
     "status": "completed"
    },
    "tags": []
   },
   "source": [
    "## 🎨 Custom Color Palette"
   ]
  },
  {
   "cell_type": "code",
   "execution_count": 4,
   "id": "575cbf1e",
   "metadata": {
    "execution": {
     "iopub.execute_input": "2025-08-17T06:28:03.056817Z",
     "iopub.status.busy": "2025-08-17T06:28:03.056266Z",
     "iopub.status.idle": "2025-08-17T06:28:03.059904Z",
     "shell.execute_reply": "2025-08-17T06:28:03.059400Z"
    },
    "papermill": {
     "duration": 0.009076,
     "end_time": "2025-08-17T06:28:03.060898",
     "exception": false,
     "start_time": "2025-08-17T06:28:03.051822",
     "status": "completed"
    },
    "tags": []
   },
   "outputs": [],
   "source": [
    "def custom_palette(custom_colors):\n",
    "    customPalette=sns.set_palette(sns.color_palette(custom_colors))\n",
    "    sns.palplot(sns.color_palette(custom_colors),size=0.8)\n",
    "    plt.tick_params(axis='both',labelsize=0,length=0)\n",
    "    return\n"
   ]
  },
  {
   "cell_type": "code",
   "execution_count": 5,
   "id": "bac643ab",
   "metadata": {
    "execution": {
     "iopub.execute_input": "2025-08-17T06:28:03.068993Z",
     "iopub.status.busy": "2025-08-17T06:28:03.068814Z",
     "iopub.status.idle": "2025-08-17T06:28:03.209711Z",
     "shell.execute_reply": "2025-08-17T06:28:03.209033Z"
    },
    "papermill": {
     "duration": 0.146109,
     "end_time": "2025-08-17T06:28:03.210758",
     "exception": false,
     "start_time": "2025-08-17T06:28:03.064649",
     "status": "completed"
    },
    "tags": []
   },
   "outputs": [
    {
     "data": {
      "image/png": "[encoded data removed]",
      "text/plain": [
       "<Figure size 880x80 with 1 Axes>"
      ]
     },
     "metadata": {},
     "output_type": "display_data"
    }
   ],
   "source": [
    "#defining colour palette\n",
    "red = [\"#4f000b\",\"#720026\",\"#ce4257\",\"#ff7f51\",\"#ff9b54\"]\n",
    "bo = [\"#6930c3\",\"#5e60ce\",\"#0096c7\",\"#48cae4\",\"#ade8f4\",\"#ff7f51\",\"#ff9b54\",\"#ffbf69\"]\n",
    "pink = [\"#aa4465\",\"#dd2d4a\",\"#f26a8d\",\"#f49cbb\",\"#ffcbf2\",\"#e2afff\",\"#ff86c8\",\"#ffa3a5\",\"#ffbf81\",\"#e9b827\",\"#f9e576\"]\n",
    "custom_palette(pink)\n"
   ]
  },
  {
   "cell_type": "markdown",
   "id": "3ba48f5f",
   "metadata": {
    "papermill": {
     "duration": 0.003481,
     "end_time": "2025-08-17T06:28:03.217993",
     "exception": false,
     "start_time": "2025-08-17T06:28:03.214512",
     "status": "completed"
    },
    "tags": []
   },
   "source": [
    "## 📉 Basic Analysis"
   ]
  },
  {
   "cell_type": "markdown",
   "id": "1af2ac4d",
   "metadata": {
    "papermill": {
     "duration": 0.003405,
     "end_time": "2025-08-17T06:28:03.225044",
     "exception": false,
     "start_time": "2025-08-17T06:28:03.221639",
     "status": "completed"
    },
    "tags": []
   },
   "source": [
    "**Shape of the data**"
   ]
  },
  {
   "cell_type": "code",
   "execution_count": 6,
   "id": "d2f26328",
   "metadata": {
    "execution": {
     "iopub.execute_input": "2025-08-17T06:28:03.232852Z",
     "iopub.status.busy": "2025-08-17T06:28:03.232652Z",
     "iopub.status.idle": "2025-08-17T06:28:03.236869Z",
     "shell.execute_reply": "2025-08-17T06:28:03.236252Z"
    },
    "papermill": {
     "duration": 0.00925,
     "end_time": "2025-08-17T06:28:03.237835",
     "exception": false,
     "start_time": "2025-08-17T06:28:03.228585",
     "status": "completed"
    },
    "tags": []
   },
   "outputs": [
    {
     "data": {
      "text/plain": [
       "(986, 11)"
      ]
     },
     "execution_count": 6,
     "metadata": {},
     "output_type": "execute_result"
    }
   ],
   "source": [
    "df.shape"
   ]
  },
  {
   "cell_type": "markdown",
   "id": "fd85192f",
   "metadata": {
    "papermill": {
     "duration": 0.003531,
     "end_time": "2025-08-17T06:28:03.245344",
     "exception": false,
     "start_time": "2025-08-17T06:28:03.241813",
     "status": "completed"
    },
    "tags": []
   },
   "source": [
    "**Inference**\n",
    "\n",
    "- Shape of the data is 986 * 11\n",
    "- Number of rows: 986\n",
    "- Number of Columns: 11"
   ]
  },
  {
   "cell_type": "markdown",
   "id": "15f5dfd3",
   "metadata": {
    "papermill": {
     "duration": 0.003566,
     "end_time": "2025-08-17T06:28:03.252609",
     "exception": false,
     "start_time": "2025-08-17T06:28:03.249043",
     "status": "completed"
    },
    "tags": []
   },
   "source": [
    "**First Few Rows**"
   ]
  },
  {
   "cell_type": "code",
   "execution_count": 7,
   "id": "a7423a6d",
   "metadata": {
    "execution": {
     "iopub.execute_input": "2025-08-17T06:28:03.260673Z",
     "iopub.status.busy": "2025-08-17T06:28:03.260500Z",
     "iopub.status.idle": "2025-08-17T06:28:03.268073Z",
     "shell.execute_reply": "2025-08-17T06:28:03.267433Z"
    },
    "papermill": {
     "duration": 0.012749,
     "end_time": "2025-08-17T06:28:03.269088",
     "exception": false,
     "start_time": "2025-08-17T06:28:03.256339",
     "status": "completed"
    },
    "tags": []
   },
   "outputs": [
    {
     "data": {
      "text/html": [
       "<div>\n",
       "<style scoped>\n",
       "    .dataframe tbody tr th:only-of-type {\n",
       "        vertical-align: middle;\n",
       "    }\n",
       "\n",
       "    .dataframe tbody tr th {\n",
       "        vertical-align: top;\n",
       "    }\n",
       "\n",
       "    .dataframe thead th {\n",
       "        text-align: right;\n",
       "    }\n",
       "</style>\n",
       "<table border=\"1\" class=\"dataframe\">\n",
       "  <thead>\n",
       "    <tr style=\"text-align: right;\">\n",
       "      <th></th>\n",
       "      <th>Age</th>\n",
       "      <th>Diabetes</th>\n",
       "      <th>BloodPressureProblems</th>\n",
       "      <th>AnyTransplants</th>\n",
       "      <th>AnyChronicDiseases</th>\n",
       "      <th>Height</th>\n",
       "      <th>Weight</th>\n",
       "      <th>KnownAllergies</th>\n",
       "      <th>HistoryOfCancerInFamily</th>\n",
       "      <th>NumberOfMajorSurgeries</th>\n",
       "      <th>PremiumPrice</th>\n",
       "    </tr>\n",
       "  </thead>\n",
       "  <tbody>\n",
       "    <tr>\n",
       "      <th>0</th>\n",
       "      <td>45</td>\n",
       "      <td>0</td>\n",
       "      <td>0</td>\n",
       "      <td>0</td>\n",
       "      <td>0</td>\n",
       "      <td>155</td>\n",
       "      <td>57</td>\n",
       "      <td>0</td>\n",
       "      <td>0</td>\n",
       "      <td>0</td>\n",
       "      <td>25000</td>\n",
       "    </tr>\n",
       "    <tr>\n",
       "      <th>1</th>\n",
       "      <td>60</td>\n",
       "      <td>1</td>\n",
       "      <td>0</td>\n",
       "      <td>0</td>\n",
       "      <td>0</td>\n",
       "      <td>180</td>\n",
       "      <td>73</td>\n",
       "      <td>0</td>\n",
       "      <td>0</td>\n",
       "      <td>0</td>\n",
       "      <td>29000</td>\n",
       "    </tr>\n",
       "    <tr>\n",
       "      <th>2</th>\n",
       "      <td>36</td>\n",
       "      <td>1</td>\n",
       "      <td>1</td>\n",
       "      <td>0</td>\n",
       "      <td>0</td>\n",
       "      <td>158</td>\n",
       "      <td>59</td>\n",
       "      <td>0</td>\n",
       "      <td>0</td>\n",
       "      <td>1</td>\n",
       "      <td>23000</td>\n",
       "    </tr>\n",
       "    <tr>\n",
       "      <th>3</th>\n",
       "      <td>52</td>\n",
       "      <td>1</td>\n",
       "      <td>1</td>\n",
       "      <td>0</td>\n",
       "      <td>1</td>\n",
       "      <td>183</td>\n",
       "      <td>93</td>\n",
       "      <td>0</td>\n",
       "      <td>0</td>\n",
       "      <td>2</td>\n",
       "      <td>28000</td>\n",
       "    </tr>\n",
       "    <tr>\n",
       "      <th>4</th>\n",
       "      <td>38</td>\n",
       "      <td>0</td>\n",
       "      <td>0</td>\n",
       "      <td>0</td>\n",
       "      <td>1</td>\n",
       "      <td>166</td>\n",
       "      <td>88</td>\n",
       "      <td>0</td>\n",
       "      <td>0</td>\n",
       "      <td>1</td>\n",
       "      <td>23000</td>\n",
       "    </tr>\n",
       "  </tbody>\n",
       "</table>\n",
       "</div>"
      ],
      "text/plain": [
       "   Age  Diabetes  BloodPressureProblems  AnyTransplants  AnyChronicDiseases  \\\n",
       "0   45         0                      0               0                   0   \n",
       "1   60         1                      0               0                   0   \n",
       "2   36         1                      1               0                   0   \n",
       "3   52         1                      1               0                   1   \n",
       "4   38         0                      0               0                   1   \n",
       "\n",
       "   Height  Weight  KnownAllergies  HistoryOfCancerInFamily  \\\n",
       "0     155      57               0                        0   \n",
       "1     180      73               0                        0   \n",
       "2     158      59               0                        0   \n",
       "3     183      93               0                        0   \n",
       "4     166      88               0                        0   \n",
       "\n",
       "   NumberOfMajorSurgeries  PremiumPrice  \n",
       "0                       0         25000  \n",
       "1                       0         29000  \n",
       "2                       1         23000  \n",
       "3                       2         28000  \n",
       "4                       1         23000  "
      ]
     },
     "execution_count": 7,
     "metadata": {},
     "output_type": "execute_result"
    }
   ],
   "source": [
    "df.head()"
   ]
  },
  {
   "cell_type": "markdown",
   "id": "b752f7db",
   "metadata": {
    "papermill": {
     "duration": 0.003654,
     "end_time": "2025-08-17T06:28:03.276595",
     "exception": false,
     "start_time": "2025-08-17T06:28:03.272941",
     "status": "completed"
    },
    "tags": []
   },
   "source": [
    "**Columns in the dataframe**"
   ]
  },
  {
   "cell_type": "code",
   "execution_count": 8,
   "id": "a04304d4",
   "metadata": {
    "execution": {
     "iopub.execute_input": "2025-08-17T06:28:03.284922Z",
     "iopub.status.busy": "2025-08-17T06:28:03.284720Z",
     "iopub.status.idle": "2025-08-17T06:28:03.289909Z",
     "shell.execute_reply": "2025-08-17T06:28:03.289289Z"
    },
    "papermill": {
     "duration": 0.010561,
     "end_time": "2025-08-17T06:28:03.291021",
     "exception": false,
     "start_time": "2025-08-17T06:28:03.280460",
     "status": "completed"
    },
    "tags": []
   },
   "outputs": [
    {
     "data": {
      "text/plain": [
       "Index(['Age', 'Diabetes', 'BloodPressureProblems', 'AnyTransplants',\n",
       "       'AnyChronicDiseases', 'Height', 'Weight', 'KnownAllergies',\n",
       "       'HistoryOfCancerInFamily', 'NumberOfMajorSurgeries', 'PremiumPrice'],\n",
       "      dtype='object')"
      ]
     },
     "execution_count": 8,
     "metadata": {},
     "output_type": "execute_result"
    }
   ],
   "source": [
    "df.columns"
   ]
  },
  {
   "cell_type": "markdown",
   "id": "ec78f450",
   "metadata": {
    "papermill": {
     "duration": 0.003763,
     "end_time": "2025-08-17T06:28:03.298673",
     "exception": false,
     "start_time": "2025-08-17T06:28:03.294910",
     "status": "completed"
    },
    "tags": []
   },
   "source": [
    "**Concise Summary**"
   ]
  },
  {
   "cell_type": "code",
   "execution_count": 9,
   "id": "aa543f8c",
   "metadata": {
    "execution": {
     "iopub.execute_input": "2025-08-17T06:28:03.307643Z",
     "iopub.status.busy": "2025-08-17T06:28:03.307079Z",
     "iopub.status.idle": "2025-08-17T06:28:03.324228Z",
     "shell.execute_reply": "2025-08-17T06:28:03.323524Z"
    },
    "papermill": {
     "duration": 0.022691,
     "end_time": "2025-08-17T06:28:03.325349",
     "exception": false,
     "start_time": "2025-08-17T06:28:03.302658",
     "status": "completed"
    },
    "tags": []
   },
   "outputs": [
    {
     "name": "stdout",
     "output_type": "stream",
     "text": [
      "<class 'pandas.core.frame.DataFrame'>\n",
      "RangeIndex: 986 entries, 0 to 985\n",
      "Data columns (total 11 columns):\n",
      " #   Column                   Non-Null Count  Dtype\n",
      "---  ------                   --------------  -----\n",
      " 0   Age                      986 non-null    int64\n",
      " 1   Diabetes                 986 non-null    int64\n",
      " 2   BloodPressureProblems    986 non-null    int64\n",
      " 3   AnyTransplants           986 non-null    int64\n",
      " 4   AnyChronicDiseases       986 non-null    int64\n",
      " 5   Height                   986 non-null    int64\n",
      " 6   Weight                   986 non-null    int64\n",
      " 7   KnownAllergies           986 non-null    int64\n",
      " 8   HistoryOfCancerInFamily  986 non-null    int64\n",
      " 9   NumberOfMajorSurgeries   986 non-null    int64\n",
      " 10  PremiumPrice             986 non-null    int64\n",
      "dtypes: int64(11)\n",
      "memory usage: 84.9 KB\n"
     ]
    }
   ],
   "source": [
    "df.info()"
   ]
  },
  {
   "cell_type": "markdown",
   "id": "7c98b8c8",
   "metadata": {
    "papermill": {
     "duration": 0.003879,
     "end_time": "2025-08-17T06:28:03.333588",
     "exception": false,
     "start_time": "2025-08-17T06:28:03.329709",
     "status": "completed"
    },
    "tags": []
   },
   "source": [
    "**Inference**\n",
    "\n",
    "- There are no missing values in the dataset.\n",
    "- All columns are of numeric type"
   ]
  },
  {
   "cell_type": "markdown",
   "id": "417a4f3d",
   "metadata": {
    "papermill": {
     "duration": 0.004037,
     "end_time": "2025-08-17T06:28:03.341786",
     "exception": false,
     "start_time": "2025-08-17T06:28:03.337749",
     "status": "completed"
    },
    "tags": []
   },
   "source": [
    "**Descriptive Statistics**"
   ]
  },
  {
   "cell_type": "code",
   "execution_count": 10,
   "id": "0d2f122d",
   "metadata": {
    "execution": {
     "iopub.execute_input": "2025-08-17T06:28:03.350529Z",
     "iopub.status.busy": "2025-08-17T06:28:03.350346Z",
     "iopub.status.idle": "2025-08-17T06:28:03.377600Z",
     "shell.execute_reply": "2025-08-17T06:28:03.376902Z"
    },
    "papermill": {
     "duration": 0.032781,
     "end_time": "2025-08-17T06:28:03.378624",
     "exception": false,
     "start_time": "2025-08-17T06:28:03.345843",
     "status": "completed"
    },
    "tags": []
   },
   "outputs": [
    {
     "data": {
      "text/html": [
       "<div>\n",
       "<style scoped>\n",
       "    .dataframe tbody tr th:only-of-type {\n",
       "        vertical-align: middle;\n",
       "    }\n",
       "\n",
       "    .dataframe tbody tr th {\n",
       "        vertical-align: top;\n",
       "    }\n",
       "\n",
       "    .dataframe thead th {\n",
       "        text-align: right;\n",
       "    }\n",
       "</style>\n",
       "<table border=\"1\" class=\"dataframe\">\n",
       "  <thead>\n",
       "    <tr style=\"text-align: right;\">\n",
       "      <th></th>\n",
       "      <th>count</th>\n",
       "      <th>mean</th>\n",
       "      <th>std</th>\n",
       "      <th>min</th>\n",
       "      <th>25%</th>\n",
       "      <th>50%</th>\n",
       "      <th>75%</th>\n",
       "      <th>max</th>\n",
       "    </tr>\n",
       "  </thead>\n",
       "  <tbody>\n",
       "    <tr>\n",
       "      <th>Age</th>\n",
       "      <td>986.0</td>\n",
       "      <td>41.745436</td>\n",
       "      <td>13.963371</td>\n",
       "      <td>18.0</td>\n",
       "      <td>30.0</td>\n",
       "      <td>42.0</td>\n",
       "      <td>53.0</td>\n",
       "      <td>66.0</td>\n",
       "    </tr>\n",
       "    <tr>\n",
       "      <th>Diabetes</th>\n",
       "      <td>986.0</td>\n",
       "      <td>0.419878</td>\n",
       "      <td>0.493789</td>\n",
       "      <td>0.0</td>\n",
       "      <td>0.0</td>\n",
       "      <td>0.0</td>\n",
       "      <td>1.0</td>\n",
       "      <td>1.0</td>\n",
       "    </tr>\n",
       "    <tr>\n",
       "      <th>BloodPressureProblems</th>\n",
       "      <td>986.0</td>\n",
       "      <td>0.468560</td>\n",
       "      <td>0.499264</td>\n",
       "      <td>0.0</td>\n",
       "      <td>0.0</td>\n",
       "      <td>0.0</td>\n",
       "      <td>1.0</td>\n",
       "      <td>1.0</td>\n",
       "    </tr>\n",
       "    <tr>\n",
       "      <th>AnyTransplants</th>\n",
       "      <td>986.0</td>\n",
       "      <td>0.055781</td>\n",
       "      <td>0.229615</td>\n",
       "      <td>0.0</td>\n",
       "      <td>0.0</td>\n",
       "      <td>0.0</td>\n",
       "      <td>0.0</td>\n",
       "      <td>1.0</td>\n",
       "    </tr>\n",
       "    <tr>\n",
       "      <th>AnyChronicDiseases</th>\n",
       "      <td>986.0</td>\n",
       "      <td>0.180527</td>\n",
       "      <td>0.384821</td>\n",
       "      <td>0.0</td>\n",
       "      <td>0.0</td>\n",
       "      <td>0.0</td>\n",
       "      <td>0.0</td>\n",
       "      <td>1.0</td>\n",
       "    </tr>\n",
       "    <tr>\n",
       "      <th>Height</th>\n",
       "      <td>986.0</td>\n",
       "      <td>168.182556</td>\n",
       "      <td>10.098155</td>\n",
       "      <td>145.0</td>\n",
       "      <td>161.0</td>\n",
       "      <td>168.0</td>\n",
       "      <td>176.0</td>\n",
       "      <td>188.0</td>\n",
       "    </tr>\n",
       "    <tr>\n",
       "      <th>Weight</th>\n",
       "      <td>986.0</td>\n",
       "      <td>76.950304</td>\n",
       "      <td>14.265096</td>\n",
       "      <td>51.0</td>\n",
       "      <td>67.0</td>\n",
       "      <td>75.0</td>\n",
       "      <td>87.0</td>\n",
       "      <td>132.0</td>\n",
       "    </tr>\n",
       "    <tr>\n",
       "      <th>KnownAllergies</th>\n",
       "      <td>986.0</td>\n",
       "      <td>0.215010</td>\n",
       "      <td>0.411038</td>\n",
       "      <td>0.0</td>\n",
       "      <td>0.0</td>\n",
       "      <td>0.0</td>\n",
       "      <td>0.0</td>\n",
       "      <td>1.0</td>\n",
       "    </tr>\n",
       "    <tr>\n",
       "      <th>HistoryOfCancerInFamily</th>\n",
       "      <td>986.0</td>\n",
       "      <td>0.117647</td>\n",
       "      <td>0.322353</td>\n",
       "      <td>0.0</td>\n",
       "      <td>0.0</td>\n",
       "      <td>0.0</td>\n",
       "      <td>0.0</td>\n",
       "      <td>1.0</td>\n",
       "    </tr>\n",
       "    <tr>\n",
       "      <th>NumberOfMajorSurgeries</th>\n",
       "      <td>986.0</td>\n",
       "      <td>0.667343</td>\n",
       "      <td>0.749205</td>\n",
       "      <td>0.0</td>\n",
       "      <td>0.0</td>\n",
       "      <td>1.0</td>\n",
       "      <td>1.0</td>\n",
       "      <td>3.0</td>\n",
       "    </tr>\n",
       "    <tr>\n",
       "      <th>PremiumPrice</th>\n",
       "      <td>986.0</td>\n",
       "      <td>24336.713996</td>\n",
       "      <td>6248.184382</td>\n",
       "      <td>15000.0</td>\n",
       "      <td>21000.0</td>\n",
       "      <td>23000.0</td>\n",
       "      <td>28000.0</td>\n",
       "      <td>40000.0</td>\n",
       "    </tr>\n",
       "  </tbody>\n",
       "</table>\n",
       "</div>"
      ],
      "text/plain": [
       "                         count          mean          std      min      25%  \\\n",
       "Age                      986.0     41.745436    13.963371     18.0     30.0   \n",
       "Diabetes                 986.0      0.419878     0.493789      0.0      0.0   \n",
       "BloodPressureProblems    986.0      0.468560     0.499264      0.0      0.0   \n",
       "AnyTransplants           986.0      0.055781     0.229615      0.0      0.0   \n",
       "AnyChronicDiseases       986.0      0.180527     0.384821      0.0      0.0   \n",
       "Height                   986.0    168.182556    10.098155    145.0    161.0   \n",
       "Weight                   986.0     76.950304    14.265096     51.0     67.0   \n",
       "KnownAllergies           986.0      0.215010     0.411038      0.0      0.0   \n",
       "HistoryOfCancerInFamily  986.0      0.117647     0.322353      0.0      0.0   \n",
       "NumberOfMajorSurgeries   986.0      0.667343     0.749205      0.0      0.0   \n",
       "PremiumPrice             986.0  24336.713996  6248.184382  15000.0  21000.0   \n",
       "\n",
       "                             50%      75%      max  \n",
       "Age                         42.0     53.0     66.0  \n",
       "Diabetes                     0.0      1.0      1.0  \n",
       "BloodPressureProblems        0.0      1.0      1.0  \n",
       "AnyTransplants               0.0      0.0      1.0  \n",
       "AnyChronicDiseases           0.0      0.0      1.0  \n",
       "Height                     168.0    176.0    188.0  \n",
       "Weight                      75.0     87.0    132.0  \n",
       "KnownAllergies               0.0      0.0      1.0  \n",
       "HistoryOfCancerInFamily      0.0      0.0      1.0  \n",
       "NumberOfMajorSurgeries       1.0      1.0      3.0  \n",
       "PremiumPrice             23000.0  28000.0  40000.0  "
      ]
     },
     "execution_count": 10,
     "metadata": {},
     "output_type": "execute_result"
    }
   ],
   "source": [
    "df.describe().T"
   ]
  },
  {
   "cell_type": "markdown",
   "id": "541aa019",
   "metadata": {
    "papermill": {
     "duration": 0.003993,
     "end_time": "2025-08-17T06:28:03.386905",
     "exception": false,
     "start_time": "2025-08-17T06:28:03.382912",
     "status": "completed"
    },
    "tags": []
   },
   "source": [
    "**Missing Values Check**"
   ]
  },
  {
   "cell_type": "code",
   "execution_count": 11,
   "id": "7d068faf",
   "metadata": {
    "execution": {
     "iopub.execute_input": "2025-08-17T06:28:03.395831Z",
     "iopub.status.busy": "2025-08-17T06:28:03.395639Z",
     "iopub.status.idle": "2025-08-17T06:28:03.400573Z",
     "shell.execute_reply": "2025-08-17T06:28:03.399913Z"
    },
    "papermill": {
     "duration": 0.010742,
     "end_time": "2025-08-17T06:28:03.401762",
     "exception": false,
     "start_time": "2025-08-17T06:28:03.391020",
     "status": "completed"
    },
    "tags": []
   },
   "outputs": [
    {
     "data": {
      "text/plain": [
       "Age                        0\n",
       "Diabetes                   0\n",
       "BloodPressureProblems      0\n",
       "AnyTransplants             0\n",
       "AnyChronicDiseases         0\n",
       "Height                     0\n",
       "Weight                     0\n",
       "KnownAllergies             0\n",
       "HistoryOfCancerInFamily    0\n",
       "NumberOfMajorSurgeries     0\n",
       "PremiumPrice               0\n",
       "dtype: int64"
      ]
     },
     "execution_count": 11,
     "metadata": {},
     "output_type": "execute_result"
    }
   ],
   "source": [
    "df.isnull().sum()"
   ]
  },
  {
   "cell_type": "markdown",
   "id": "1509545e",
   "metadata": {
    "papermill": {
     "duration": 0.004247,
     "end_time": "2025-08-17T06:28:03.410607",
     "exception": false,
     "start_time": "2025-08-17T06:28:03.406360",
     "status": "completed"
    },
    "tags": []
   },
   "source": [
    "**Inference**\n",
    "\n",
    "There are no missing values in the dataset"
   ]
  },
  {
   "cell_type": "markdown",
   "id": "2bfcfe54",
   "metadata": {
    "papermill": {
     "duration": 0.004266,
     "end_time": "2025-08-17T06:28:03.419226",
     "exception": false,
     "start_time": "2025-08-17T06:28:03.414960",
     "status": "completed"
    },
    "tags": []
   },
   "source": []
  }
 ],
 "metadata": {
  "kaggle": {
   "accelerator": "nvidiaTeslaT4",
   "dataSources": [],
   "dockerImageVersionId": 31090,
   "isGpuEnabled": true,
   "isInternetEnabled": true,
   "language": "python",
   "sourceType": "notebook"
  },
  "kernelspec": {
   "display_name": "Python 3",
   "language": "python",
   "name": "python3"
  },
  "language_info": {
   "codemirror_mode": {
    "name": "ipython",
    "version": 3
   },
   "file_extension": ".py",
   "mimetype": "text/x-python",
   "name": "python",
   "nbconvert_exporter": "python",
   "pygments_lexer": "ipython3",
   "version": "3.11.13"
  },
  "papermill": {
   "default_parameters": {},
   "duration": 11.322799,
   "end_time": "2025-08-17T06:28:03.940389",
   "environment_variables": {},
   "exception": null,
   "input_path": "__notebook__.ipynb",
   "output_path": "__notebook__.ipynb",
   "parameters": {},
   "start_time": "2025-08-17T06:27:52.617590",
   "version": "2.6.0"
  }
 },
 "nbformat": 4,
 "nbformat_minor": 5
}

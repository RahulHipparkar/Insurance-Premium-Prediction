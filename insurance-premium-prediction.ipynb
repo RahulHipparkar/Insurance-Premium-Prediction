{
 "cells": [
  {
   "cell_type": "markdown",
   "id": "5fcf0e45",
   "metadata": {
    "papermill": {
     "duration": 0.005757,
     "end_time": "2025-08-24T06:37:15.498843",
     "exception": false,
     "start_time": "2025-08-24T06:37:15.493086",
     "status": "completed"
    },
    "tags": []
   },
   "source": [
    "# 🏆 About Project "
   ]
  },
  {
   "cell_type": "markdown",
   "id": "4bcfc094",
   "metadata": {
    "papermill": {
     "duration": 0.004613,
     "end_time": "2025-08-24T06:37:15.508542",
     "exception": false,
     "start_time": "2025-08-24T06:37:15.503929",
     "status": "completed"
    },
    "tags": []
   },
   "source": [
    "## 🎯  Objective \n",
    "\n",
    "Insurance companies need to accurately predict the cost of health insurance for individuals to set premiums appropriately. However, traditional methods of cost prediction often rely on broad actuarial tables and historical averages, which may not account for the nuanced differences among individuals. By leveraging machine learning techniques, insurers can predict more accurately the insurance costs tailored to individual profiles, leading to more competitive pricing and better risk management.\n",
    "\n",
    "**Insurance Cost Prediction need**\n",
    "The primary need for this project arises from the challenges insurers face in pricing policies accurately while remaining competitive in the market. Inaccurate predictions can lead to losses for insurers and unfairly high premiums for policyholders. By implementing a machine learning model, insurers can:\n",
    "- Enhance Precision in Pricing: Use individual data points to determine premiums that reflect actual risk more closely than generic estimates.\n",
    "- Increase Competitiveness: Offer rates that are attractive to consumers while ensuring that the pricing is sustainable for the insurer.\n",
    "- Improve Customer Satisfaction: Fair and transparent pricing based on personal health data can increase trust and satisfaction among policyholders.\n",
    "- Enable Personalized Offerings: Create customized insurance packages based on predicted costs, which can cater more directly to the needs and preferences of individuals.\n",
    "- Risk Assessment: Insurers can use the model to refine their risk assessment processes, identifying key factors that influence costs most significantly.\n",
    "- Policy Development: The insights gained from the model can inform the development of new insurance products or adjustments to existing ones.\n",
    "- Strategic Decision Making: Predictive analytics can aid in broader strategic decisions, such as entering new markets or adjusting policy terms based on risk predictions.\n",
    "- Customer Engagement: Insights from the model can be used in customer engagement initiatives, such as personalized marketing and tailored advice for policyholders.\n"
   ]
  },
  {
   "cell_type": "markdown",
   "id": "6b4ea355",
   "metadata": {
    "papermill": {
     "duration": 0.004485,
     "end_time": "2025-08-24T06:37:15.517807",
     "exception": false,
     "start_time": "2025-08-24T06:37:15.513322",
     "status": "completed"
    },
    "tags": []
   },
   "source": [
    "## 📚 Data Description"
   ]
  },
  {
   "cell_type": "markdown",
   "id": "d0f13f64",
   "metadata": {
    "papermill": {
     "duration": 0.005027,
     "end_time": "2025-08-24T06:37:15.527522",
     "exception": false,
     "start_time": "2025-08-24T06:37:15.522495",
     "status": "completed"
    },
    "tags": []
   },
   "source": [
    "The dataset comprises the following 11 attributes:\n",
    "1. Age: Numeric, ranging from 18 to 66 years.\n",
    "2. Diabetes: Binary (0 or 1), where 1 indicates the presence of diabetes.\n",
    "3. BloodPressureProblems: Binary (0 or 1), indicating the presence of blood pressure-related issues.\n",
    "4. AnyTransplants: Binary (0 or 1), where 1 indicates the person has had a transplant.\n",
    "5. AnyChronicDiseases: Binary (0 or 1), indicating the presence of any chronic diseases.\n",
    "6. Height: Numeric, measured in centimeters, ranging from 145 cm to 188 cm.\n",
    "7. Weight: Numeric, measured in kilograms, ranging from 51 kg to 132 kg.\n",
    "8. KnownAllergies: Binary (0 or 1), where 1 indicates known allergies.\n",
    "9. HistoryOfCancerInFamily: Binary (0 or 1), indicating a family history of cancer.\n",
    "10. NumberOfMajorSurgeries: Numeric, counting the number of major surgeries, ranging from 0 to 3 surgeries.\n",
    "11. PremiumPrice: Numeric, representing the premium price in currency, ranging from 15,000 to 40,000.\n"
   ]
  },
  {
   "cell_type": "markdown",
   "id": "640fd626",
   "metadata": {
    "papermill": {
     "duration": 0.004649,
     "end_time": "2025-08-24T06:37:15.537078",
     "exception": false,
     "start_time": "2025-08-24T06:37:15.532429",
     "status": "completed"
    },
    "tags": []
   },
   "source": [
    "# 🚀 Let's Get Started"
   ]
  },
  {
   "cell_type": "markdown",
   "id": "af9d71c8",
   "metadata": {
    "papermill": {
     "duration": 0.004519,
     "end_time": "2025-08-24T06:37:15.546405",
     "exception": false,
     "start_time": "2025-08-24T06:37:15.541886",
     "status": "completed"
    },
    "tags": []
   },
   "source": [
    "## 📚 Importing Libraries"
   ]
  },
  {
   "cell_type": "code",
   "execution_count": 1,
   "id": "db32dbf1",
   "metadata": {
    "execution": {
     "iopub.execute_input": "2025-08-24T06:37:15.556627Z",
     "iopub.status.busy": "2025-08-24T06:37:15.556316Z",
     "iopub.status.idle": "2025-08-24T06:37:19.030921Z",
     "shell.execute_reply": "2025-08-24T06:37:19.030350Z"
    },
    "papermill": {
     "duration": 3.481218,
     "end_time": "2025-08-24T06:37:19.032232",
     "exception": false,
     "start_time": "2025-08-24T06:37:15.551014",
     "status": "completed"
    },
    "tags": []
   },
   "outputs": [],
   "source": [
    "import numpy as np\n",
    "import pandas as pd \n",
    "import matplotlib.pyplot as plt\n",
    "import seaborn as sns\n",
    "import plotly.graph_objs as go\n",
    "import plotly.subplots as sp\n",
    "from plotly.subplots import make_subplots\n",
    "import plotly.express as px\n",
    "import warnings\n",
    "import time\n",
    "import datetime as dt\n",
    "warnings.filterwarnings(\"ignore\")"
   ]
  },
  {
   "cell_type": "markdown",
   "id": "a62784d5",
   "metadata": {
    "papermill": {
     "duration": 0.004659,
     "end_time": "2025-08-24T06:37:19.041900",
     "exception": false,
     "start_time": "2025-08-24T06:37:19.037241",
     "status": "completed"
    },
    "tags": []
   },
   "source": [
    "## 📊 Importing Dataset"
   ]
  },
  {
   "cell_type": "code",
   "execution_count": 2,
   "id": "76741edb",
   "metadata": {
    "execution": {
     "iopub.execute_input": "2025-08-24T06:37:19.052220Z",
     "iopub.status.busy": "2025-08-24T06:37:19.051685Z",
     "iopub.status.idle": "2025-08-24T06:37:21.445292Z",
     "shell.execute_reply": "2025-08-24T06:37:21.444570Z"
    },
    "papermill": {
     "duration": 2.40003,
     "end_time": "2025-08-24T06:37:21.446477",
     "exception": false,
     "start_time": "2025-08-24T06:37:19.046447",
     "status": "completed"
    },
    "tags": []
   },
   "outputs": [
    {
     "name": "stdout",
     "output_type": "stream",
     "text": [
      "Downloading...\r\n",
      "From: https://drive.google.com/uc?id=1NBk1TFkK4NeKdodR2DxIdBp2Mk1mh4AS\r\n",
      "To: /kaggle/working/insurance.csv\r\n",
      "100%|██████████████████████████████████████| 30.8k/30.8k [00:00<00:00, 72.6MB/s]\r\n"
     ]
    }
   ],
   "source": [
    "! gdown 1NBk1TFkK4NeKdodR2DxIdBp2Mk1mh4AS"
   ]
  },
  {
   "cell_type": "code",
   "execution_count": 3,
   "id": "b7e731e6",
   "metadata": {
    "execution": {
     "iopub.execute_input": "2025-08-24T06:37:21.458034Z",
     "iopub.status.busy": "2025-08-24T06:37:21.457343Z",
     "iopub.status.idle": "2025-08-24T06:37:21.494575Z",
     "shell.execute_reply": "2025-08-24T06:37:21.493796Z"
    },
    "papermill": {
     "duration": 0.04415,
     "end_time": "2025-08-24T06:37:21.495673",
     "exception": false,
     "start_time": "2025-08-24T06:37:21.451523",
     "status": "completed"
    },
    "tags": []
   },
   "outputs": [
    {
     "data": {
      "text/html": [
       "<div>\n",
       "<style scoped>\n",
       "    .dataframe tbody tr th:only-of-type {\n",
       "        vertical-align: middle;\n",
       "    }\n",
       "\n",
       "    .dataframe tbody tr th {\n",
       "        vertical-align: top;\n",
       "    }\n",
       "\n",
       "    .dataframe thead th {\n",
       "        text-align: right;\n",
       "    }\n",
       "</style>\n",
       "<table border=\"1\" class=\"dataframe\">\n",
       "  <thead>\n",
       "    <tr style=\"text-align: right;\">\n",
       "      <th></th>\n",
       "      <th>Age</th>\n",
       "      <th>Diabetes</th>\n",
       "      <th>BloodPressureProblems</th>\n",
       "      <th>AnyTransplants</th>\n",
       "      <th>AnyChronicDiseases</th>\n",
       "      <th>Height</th>\n",
       "      <th>Weight</th>\n",
       "      <th>KnownAllergies</th>\n",
       "      <th>HistoryOfCancerInFamily</th>\n",
       "      <th>NumberOfMajorSurgeries</th>\n",
       "      <th>PremiumPrice</th>\n",
       "    </tr>\n",
       "  </thead>\n",
       "  <tbody>\n",
       "    <tr>\n",
       "      <th>0</th>\n",
       "      <td>45</td>\n",
       "      <td>0</td>\n",
       "      <td>0</td>\n",
       "      <td>0</td>\n",
       "      <td>0</td>\n",
       "      <td>155</td>\n",
       "      <td>57</td>\n",
       "      <td>0</td>\n",
       "      <td>0</td>\n",
       "      <td>0</td>\n",
       "      <td>25000</td>\n",
       "    </tr>\n",
       "    <tr>\n",
       "      <th>1</th>\n",
       "      <td>60</td>\n",
       "      <td>1</td>\n",
       "      <td>0</td>\n",
       "      <td>0</td>\n",
       "      <td>0</td>\n",
       "      <td>180</td>\n",
       "      <td>73</td>\n",
       "      <td>0</td>\n",
       "      <td>0</td>\n",
       "      <td>0</td>\n",
       "      <td>29000</td>\n",
       "    </tr>\n",
       "    <tr>\n",
       "      <th>2</th>\n",
       "      <td>36</td>\n",
       "      <td>1</td>\n",
       "      <td>1</td>\n",
       "      <td>0</td>\n",
       "      <td>0</td>\n",
       "      <td>158</td>\n",
       "      <td>59</td>\n",
       "      <td>0</td>\n",
       "      <td>0</td>\n",
       "      <td>1</td>\n",
       "      <td>23000</td>\n",
       "    </tr>\n",
       "    <tr>\n",
       "      <th>3</th>\n",
       "      <td>52</td>\n",
       "      <td>1</td>\n",
       "      <td>1</td>\n",
       "      <td>0</td>\n",
       "      <td>1</td>\n",
       "      <td>183</td>\n",
       "      <td>93</td>\n",
       "      <td>0</td>\n",
       "      <td>0</td>\n",
       "      <td>2</td>\n",
       "      <td>28000</td>\n",
       "    </tr>\n",
       "    <tr>\n",
       "      <th>4</th>\n",
       "      <td>38</td>\n",
       "      <td>0</td>\n",
       "      <td>0</td>\n",
       "      <td>0</td>\n",
       "      <td>1</td>\n",
       "      <td>166</td>\n",
       "      <td>88</td>\n",
       "      <td>0</td>\n",
       "      <td>0</td>\n",
       "      <td>1</td>\n",
       "      <td>23000</td>\n",
       "    </tr>\n",
       "    <tr>\n",
       "      <th>...</th>\n",
       "      <td>...</td>\n",
       "      <td>...</td>\n",
       "      <td>...</td>\n",
       "      <td>...</td>\n",
       "      <td>...</td>\n",
       "      <td>...</td>\n",
       "      <td>...</td>\n",
       "      <td>...</td>\n",
       "      <td>...</td>\n",
       "      <td>...</td>\n",
       "      <td>...</td>\n",
       "    </tr>\n",
       "    <tr>\n",
       "      <th>981</th>\n",
       "      <td>18</td>\n",
       "      <td>0</td>\n",
       "      <td>0</td>\n",
       "      <td>0</td>\n",
       "      <td>0</td>\n",
       "      <td>169</td>\n",
       "      <td>67</td>\n",
       "      <td>0</td>\n",
       "      <td>0</td>\n",
       "      <td>0</td>\n",
       "      <td>15000</td>\n",
       "    </tr>\n",
       "    <tr>\n",
       "      <th>982</th>\n",
       "      <td>64</td>\n",
       "      <td>1</td>\n",
       "      <td>1</td>\n",
       "      <td>0</td>\n",
       "      <td>0</td>\n",
       "      <td>153</td>\n",
       "      <td>70</td>\n",
       "      <td>0</td>\n",
       "      <td>0</td>\n",
       "      <td>3</td>\n",
       "      <td>28000</td>\n",
       "    </tr>\n",
       "    <tr>\n",
       "      <th>983</th>\n",
       "      <td>56</td>\n",
       "      <td>0</td>\n",
       "      <td>1</td>\n",
       "      <td>0</td>\n",
       "      <td>0</td>\n",
       "      <td>155</td>\n",
       "      <td>71</td>\n",
       "      <td>0</td>\n",
       "      <td>0</td>\n",
       "      <td>1</td>\n",
       "      <td>29000</td>\n",
       "    </tr>\n",
       "    <tr>\n",
       "      <th>984</th>\n",
       "      <td>47</td>\n",
       "      <td>1</td>\n",
       "      <td>1</td>\n",
       "      <td>0</td>\n",
       "      <td>0</td>\n",
       "      <td>158</td>\n",
       "      <td>73</td>\n",
       "      <td>1</td>\n",
       "      <td>0</td>\n",
       "      <td>1</td>\n",
       "      <td>39000</td>\n",
       "    </tr>\n",
       "    <tr>\n",
       "      <th>985</th>\n",
       "      <td>21</td>\n",
       "      <td>0</td>\n",
       "      <td>0</td>\n",
       "      <td>0</td>\n",
       "      <td>0</td>\n",
       "      <td>158</td>\n",
       "      <td>75</td>\n",
       "      <td>1</td>\n",
       "      <td>0</td>\n",
       "      <td>1</td>\n",
       "      <td>15000</td>\n",
       "    </tr>\n",
       "  </tbody>\n",
       "</table>\n",
       "<p>986 rows × 11 columns</p>\n",
       "</div>"
      ],
      "text/plain": [
       "     Age  Diabetes  BloodPressureProblems  AnyTransplants  AnyChronicDiseases  \\\n",
       "0     45         0                      0               0                   0   \n",
       "1     60         1                      0               0                   0   \n",
       "2     36         1                      1               0                   0   \n",
       "3     52         1                      1               0                   1   \n",
       "4     38         0                      0               0                   1   \n",
       "..   ...       ...                    ...             ...                 ...   \n",
       "981   18         0                      0               0                   0   \n",
       "982   64         1                      1               0                   0   \n",
       "983   56         0                      1               0                   0   \n",
       "984   47         1                      1               0                   0   \n",
       "985   21         0                      0               0                   0   \n",
       "\n",
       "     Height  Weight  KnownAllergies  HistoryOfCancerInFamily  \\\n",
       "0       155      57               0                        0   \n",
       "1       180      73               0                        0   \n",
       "2       158      59               0                        0   \n",
       "3       183      93               0                        0   \n",
       "4       166      88               0                        0   \n",
       "..      ...     ...             ...                      ...   \n",
       "981     169      67               0                        0   \n",
       "982     153      70               0                        0   \n",
       "983     155      71               0                        0   \n",
       "984     158      73               1                        0   \n",
       "985     158      75               1                        0   \n",
       "\n",
       "     NumberOfMajorSurgeries  PremiumPrice  \n",
       "0                         0         25000  \n",
       "1                         0         29000  \n",
       "2                         1         23000  \n",
       "3                         2         28000  \n",
       "4                         1         23000  \n",
       "..                      ...           ...  \n",
       "981                       0         15000  \n",
       "982                       3         28000  \n",
       "983                       1         29000  \n",
       "984                       1         39000  \n",
       "985                       1         15000  \n",
       "\n",
       "[986 rows x 11 columns]"
      ]
     },
     "execution_count": 3,
     "metadata": {},
     "output_type": "execute_result"
    }
   ],
   "source": [
    "df = pd.read_csv('/kaggle/working/insurance.csv')\n",
    "df"
   ]
  },
  {
   "cell_type": "markdown",
   "id": "8afb4253",
   "metadata": {
    "papermill": {
     "duration": 0.004903,
     "end_time": "2025-08-24T06:37:21.505730",
     "exception": false,
     "start_time": "2025-08-24T06:37:21.500827",
     "status": "completed"
    },
    "tags": []
   },
   "source": [
    "## 🎨 Custom Color Palette"
   ]
  },
  {
   "cell_type": "code",
   "execution_count": 4,
   "id": "b69606aa",
   "metadata": {
    "execution": {
     "iopub.execute_input": "2025-08-24T06:37:21.516716Z",
     "iopub.status.busy": "2025-08-24T06:37:21.516193Z",
     "iopub.status.idle": "2025-08-24T06:37:21.520016Z",
     "shell.execute_reply": "2025-08-24T06:37:21.519464Z"
    },
    "papermill": {
     "duration": 0.010251,
     "end_time": "2025-08-24T06:37:21.520935",
     "exception": false,
     "start_time": "2025-08-24T06:37:21.510684",
     "status": "completed"
    },
    "tags": []
   },
   "outputs": [],
   "source": [
    "def custom_palette(custom_colors):\n",
    "    customPalette=sns.set_palette(sns.color_palette(custom_colors))\n",
    "    sns.palplot(sns.color_palette(custom_colors),size=0.8)\n",
    "    plt.tick_params(axis='both',labelsize=0,length=0)\n",
    "    return\n"
   ]
  },
  {
   "cell_type": "code",
   "execution_count": 5,
   "id": "99d9e730",
   "metadata": {
    "execution": {
     "iopub.execute_input": "2025-08-24T06:37:21.531546Z",
     "iopub.status.busy": "2025-08-24T06:37:21.531345Z",
     "iopub.status.idle": "2025-08-24T06:37:21.687457Z",
     "shell.execute_reply": "2025-08-24T06:37:21.686769Z"
    },
    "papermill": {
     "duration": 0.162843,
     "end_time": "2025-08-24T06:37:21.688663",
     "exception": false,
     "start_time": "2025-08-24T06:37:21.525820",
     "status": "completed"
    },
    "tags": []
   },
   "outputs": [
    {
     "data": {
      "image/png": "[encoded data removed]",
      "text/plain": [
       "<Figure size 880x80 with 1 Axes>"
      ]
     },
     "metadata": {},
     "output_type": "display_data"
    }
   ],
   "source": [
    "#defining colour palette\n",
    "red = [\"#4f000b\",\"#720026\",\"#ce4257\",\"#ff7f51\",\"#ff9b54\"]\n",
    "bo = [\"#6930c3\",\"#5e60ce\",\"#0096c7\",\"#48cae4\",\"#ade8f4\",\"#ff7f51\",\"#ff9b54\",\"#ffbf69\"]\n",
    "pink = [\"#aa4465\",\"#dd2d4a\",\"#f26a8d\",\"#f49cbb\",\"#ffcbf2\",\"#e2afff\",\"#ff86c8\",\"#ffa3a5\",\"#ffbf81\",\"#e9b827\",\"#f9e576\"]\n",
    "custom_palette(pink)\n"
   ]
  },
  {
   "cell_type": "markdown",
   "id": "8e4017fe",
   "metadata": {
    "papermill": {
     "duration": 0.005069,
     "end_time": "2025-08-24T06:37:21.699228",
     "exception": false,
     "start_time": "2025-08-24T06:37:21.694159",
     "status": "completed"
    },
    "tags": []
   },
   "source": [
    "## 📉 Basic Analysis"
   ]
  },
  {
   "cell_type": "markdown",
   "id": "b920719e",
   "metadata": {
    "papermill": {
     "duration": 0.00502,
     "end_time": "2025-08-24T06:37:21.709250",
     "exception": false,
     "start_time": "2025-08-24T06:37:21.704230",
     "status": "completed"
    },
    "tags": []
   },
   "source": [
    "**Shape of the data**"
   ]
  },
  {
   "cell_type": "code",
   "execution_count": 6,
   "id": "60f04e1b",
   "metadata": {
    "execution": {
     "iopub.execute_input": "2025-08-24T06:37:21.720692Z",
     "iopub.status.busy": "2025-08-24T06:37:21.720459Z",
     "iopub.status.idle": "2025-08-24T06:37:21.724605Z",
     "shell.execute_reply": "2025-08-24T06:37:21.723948Z"
    },
    "papermill": {
     "duration": 0.011081,
     "end_time": "2025-08-24T06:37:21.725659",
     "exception": false,
     "start_time": "2025-08-24T06:37:21.714578",
     "status": "completed"
    },
    "tags": []
   },
   "outputs": [
    {
     "data": {
      "text/plain": [
       "(986, 11)"
      ]
     },
     "execution_count": 6,
     "metadata": {},
     "output_type": "execute_result"
    }
   ],
   "source": [
    "df.shape"
   ]
  },
  {
   "cell_type": "markdown",
   "id": "c9c4d25c",
   "metadata": {
    "papermill": {
     "duration": 0.005019,
     "end_time": "2025-08-24T06:37:21.735784",
     "exception": false,
     "start_time": "2025-08-24T06:37:21.730765",
     "status": "completed"
    },
    "tags": []
   },
   "source": [
    "**Inference**\n",
    "\n",
    "- Shape of the data is 986 * 11\n",
    "- Number of rows: 986\n",
    "- Number of Columns: 11"
   ]
  },
  {
   "cell_type": "markdown",
   "id": "51b1391c",
   "metadata": {
    "papermill": {
     "duration": 0.004916,
     "end_time": "2025-08-24T06:37:21.745726",
     "exception": false,
     "start_time": "2025-08-24T06:37:21.740810",
     "status": "completed"
    },
    "tags": []
   },
   "source": [
    "**First Few Rows**"
   ]
  },
  {
   "cell_type": "code",
   "execution_count": 7,
   "id": "9446c2c1",
   "metadata": {
    "execution": {
     "iopub.execute_input": "2025-08-24T06:37:21.756865Z",
     "iopub.status.busy": "2025-08-24T06:37:21.756658Z",
     "iopub.status.idle": "2025-08-24T06:37:21.764582Z",
     "shell.execute_reply": "2025-08-24T06:37:21.764012Z"
    },
    "papermill": {
     "duration": 0.014553,
     "end_time": "2025-08-24T06:37:21.765539",
     "exception": false,
     "start_time": "2025-08-24T06:37:21.750986",
     "status": "completed"
    },
    "tags": []
   },
   "outputs": [
    {
     "data": {
      "text/html": [
       "<div>\n",
       "<style scoped>\n",
       "    .dataframe tbody tr th:only-of-type {\n",
       "        vertical-align: middle;\n",
       "    }\n",
       "\n",
       "    .dataframe tbody tr th {\n",
       "        vertical-align: top;\n",
       "    }\n",
       "\n",
       "    .dataframe thead th {\n",
       "        text-align: right;\n",
       "    }\n",
       "</style>\n",
       "<table border=\"1\" class=\"dataframe\">\n",
       "  <thead>\n",
       "    <tr style=\"text-align: right;\">\n",
       "      <th></th>\n",
       "      <th>Age</th>\n",
       "      <th>Diabetes</th>\n",
       "      <th>BloodPressureProblems</th>\n",
       "      <th>AnyTransplants</th>\n",
       "      <th>AnyChronicDiseases</th>\n",
       "      <th>Height</th>\n",
       "      <th>Weight</th>\n",
       "      <th>KnownAllergies</th>\n",
       "      <th>HistoryOfCancerInFamily</th>\n",
       "      <th>NumberOfMajorSurgeries</th>\n",
       "      <th>PremiumPrice</th>\n",
       "    </tr>\n",
       "  </thead>\n",
       "  <tbody>\n",
       "    <tr>\n",
       "      <th>0</th>\n",
       "      <td>45</td>\n",
       "      <td>0</td>\n",
       "      <td>0</td>\n",
       "      <td>0</td>\n",
       "      <td>0</td>\n",
       "      <td>155</td>\n",
       "      <td>57</td>\n",
       "      <td>0</td>\n",
       "      <td>0</td>\n",
       "      <td>0</td>\n",
       "      <td>25000</td>\n",
       "    </tr>\n",
       "    <tr>\n",
       "      <th>1</th>\n",
       "      <td>60</td>\n",
       "      <td>1</td>\n",
       "      <td>0</td>\n",
       "      <td>0</td>\n",
       "      <td>0</td>\n",
       "      <td>180</td>\n",
       "      <td>73</td>\n",
       "      <td>0</td>\n",
       "      <td>0</td>\n",
       "      <td>0</td>\n",
       "      <td>29000</td>\n",
       "    </tr>\n",
       "    <tr>\n",
       "      <th>2</th>\n",
       "      <td>36</td>\n",
       "      <td>1</td>\n",
       "      <td>1</td>\n",
       "      <td>0</td>\n",
       "      <td>0</td>\n",
       "      <td>158</td>\n",
       "      <td>59</td>\n",
       "      <td>0</td>\n",
       "      <td>0</td>\n",
       "      <td>1</td>\n",
       "      <td>23000</td>\n",
       "    </tr>\n",
       "    <tr>\n",
       "      <th>3</th>\n",
       "      <td>52</td>\n",
       "      <td>1</td>\n",
       "      <td>1</td>\n",
       "      <td>0</td>\n",
       "      <td>1</td>\n",
       "      <td>183</td>\n",
       "      <td>93</td>\n",
       "      <td>0</td>\n",
       "      <td>0</td>\n",
       "      <td>2</td>\n",
       "      <td>28000</td>\n",
       "    </tr>\n",
       "    <tr>\n",
       "      <th>4</th>\n",
       "      <td>38</td>\n",
       "      <td>0</td>\n",
       "      <td>0</td>\n",
       "      <td>0</td>\n",
       "      <td>1</td>\n",
       "      <td>166</td>\n",
       "      <td>88</td>\n",
       "      <td>0</td>\n",
       "      <td>0</td>\n",
       "      <td>1</td>\n",
       "      <td>23000</td>\n",
       "    </tr>\n",
       "  </tbody>\n",
       "</table>\n",
       "</div>"
      ],
      "text/plain": [
       "   Age  Diabetes  BloodPressureProblems  AnyTransplants  AnyChronicDiseases  \\\n",
       "0   45         0                      0               0                   0   \n",
       "1   60         1                      0               0                   0   \n",
       "2   36         1                      1               0                   0   \n",
       "3   52         1                      1               0                   1   \n",
       "4   38         0                      0               0                   1   \n",
       "\n",
       "   Height  Weight  KnownAllergies  HistoryOfCancerInFamily  \\\n",
       "0     155      57               0                        0   \n",
       "1     180      73               0                        0   \n",
       "2     158      59               0                        0   \n",
       "3     183      93               0                        0   \n",
       "4     166      88               0                        0   \n",
       "\n",
       "   NumberOfMajorSurgeries  PremiumPrice  \n",
       "0                       0         25000  \n",
       "1                       0         29000  \n",
       "2                       1         23000  \n",
       "3                       2         28000  \n",
       "4                       1         23000  "
      ]
     },
     "execution_count": 7,
     "metadata": {},
     "output_type": "execute_result"
    }
   ],
   "source": [
    "df.head()"
   ]
  },
  {
   "cell_type": "markdown",
   "id": "4dd3a74a",
   "metadata": {
    "papermill": {
     "duration": 0.005483,
     "end_time": "2025-08-24T06:37:21.776325",
     "exception": false,
     "start_time": "2025-08-24T06:37:21.770842",
     "status": "completed"
    },
    "tags": []
   },
   "source": [
    "**Columns in the dataframe**"
   ]
  },
  {
   "cell_type": "code",
   "execution_count": 8,
   "id": "f1d8422c",
   "metadata": {
    "execution": {
     "iopub.execute_input": "2025-08-24T06:37:21.789357Z",
     "iopub.status.busy": "2025-08-24T06:37:21.788977Z",
     "iopub.status.idle": "2025-08-24T06:37:21.794083Z",
     "shell.execute_reply": "2025-08-24T06:37:21.793595Z"
    },
    "papermill": {
     "duration": 0.011859,
     "end_time": "2025-08-24T06:37:21.795042",
     "exception": false,
     "start_time": "2025-08-24T06:37:21.783183",
     "status": "completed"
    },
    "tags": []
   },
   "outputs": [
    {
     "data": {
      "text/plain": [
       "Index(['Age', 'Diabetes', 'BloodPressureProblems', 'AnyTransplants',\n",
       "       'AnyChronicDiseases', 'Height', 'Weight', 'KnownAllergies',\n",
       "       'HistoryOfCancerInFamily', 'NumberOfMajorSurgeries', 'PremiumPrice'],\n",
       "      dtype='object')"
      ]
     },
     "execution_count": 8,
     "metadata": {},
     "output_type": "execute_result"
    }
   ],
   "source": [
    "df.columns"
   ]
  },
  {
   "cell_type": "markdown",
   "id": "14cad688",
   "metadata": {
    "papermill": {
     "duration": 0.005312,
     "end_time": "2025-08-24T06:37:21.805784",
     "exception": false,
     "start_time": "2025-08-24T06:37:21.800472",
     "status": "completed"
    },
    "tags": []
   },
   "source": [
    "**Concise Summary**"
   ]
  },
  {
   "cell_type": "code",
   "execution_count": 9,
   "id": "3e1b9ede",
   "metadata": {
    "execution": {
     "iopub.execute_input": "2025-08-24T06:37:21.817339Z",
     "iopub.status.busy": "2025-08-24T06:37:21.817140Z",
     "iopub.status.idle": "2025-08-24T06:37:21.833701Z",
     "shell.execute_reply": "2025-08-24T06:37:21.832832Z"
    },
    "papermill": {
     "duration": 0.023572,
     "end_time": "2025-08-24T06:37:21.834838",
     "exception": false,
     "start_time": "2025-08-24T06:37:21.811266",
     "status": "completed"
    },
    "tags": []
   },
   "outputs": [
    {
     "name": "stdout",
     "output_type": "stream",
     "text": [
      "<class 'pandas.core.frame.DataFrame'>\n",
      "RangeIndex: 986 entries, 0 to 985\n",
      "Data columns (total 11 columns):\n",
      " #   Column                   Non-Null Count  Dtype\n",
      "---  ------                   --------------  -----\n",
      " 0   Age                      986 non-null    int64\n",
      " 1   Diabetes                 986 non-null    int64\n",
      " 2   BloodPressureProblems    986 non-null    int64\n",
      " 3   AnyTransplants           986 non-null    int64\n",
      " 4   AnyChronicDiseases       986 non-null    int64\n",
      " 5   Height                   986 non-null    int64\n",
      " 6   Weight                   986 non-null    int64\n",
      " 7   KnownAllergies           986 non-null    int64\n",
      " 8   HistoryOfCancerInFamily  986 non-null    int64\n",
      " 9   NumberOfMajorSurgeries   986 non-null    int64\n",
      " 10  PremiumPrice             986 non-null    int64\n",
      "dtypes: int64(11)\n",
      "memory usage: 84.9 KB\n"
     ]
    }
   ],
   "source": [
    "df.info()"
   ]
  },
  {
   "cell_type": "markdown",
   "id": "be59f104",
   "metadata": {
    "papermill": {
     "duration": 0.005657,
     "end_time": "2025-08-24T06:37:21.846327",
     "exception": false,
     "start_time": "2025-08-24T06:37:21.840670",
     "status": "completed"
    },
    "tags": []
   },
   "source": [
    "**Inference**\n",
    "\n",
    "- There are no missing values in the dataset.\n",
    "- All columns are of numeric type"
   ]
  },
  {
   "cell_type": "markdown",
   "id": "d36d3dd5",
   "metadata": {
    "papermill": {
     "duration": 0.005298,
     "end_time": "2025-08-24T06:37:21.857399",
     "exception": false,
     "start_time": "2025-08-24T06:37:21.852101",
     "status": "completed"
    },
    "tags": []
   },
   "source": [
    "**Descriptive Statistics**"
   ]
  },
  {
   "cell_type": "code",
   "execution_count": 10,
   "id": "b371c839",
   "metadata": {
    "execution": {
     "iopub.execute_input": "2025-08-24T06:37:21.869178Z",
     "iopub.status.busy": "2025-08-24T06:37:21.868974Z",
     "iopub.status.idle": "2025-08-24T06:37:21.904134Z",
     "shell.execute_reply": "2025-08-24T06:37:21.903607Z"
    },
    "papermill": {
     "duration": 0.042347,
     "end_time": "2025-08-24T06:37:21.905145",
     "exception": false,
     "start_time": "2025-08-24T06:37:21.862798",
     "status": "completed"
    },
    "tags": []
   },
   "outputs": [
    {
     "data": {
      "text/html": [
       "<div>\n",
       "<style scoped>\n",
       "    .dataframe tbody tr th:only-of-type {\n",
       "        vertical-align: middle;\n",
       "    }\n",
       "\n",
       "    .dataframe tbody tr th {\n",
       "        vertical-align: top;\n",
       "    }\n",
       "\n",
       "    .dataframe thead th {\n",
       "        text-align: right;\n",
       "    }\n",
       "</style>\n",
       "<table border=\"1\" class=\"dataframe\">\n",
       "  <thead>\n",
       "    <tr style=\"text-align: right;\">\n",
       "      <th></th>\n",
       "      <th>count</th>\n",
       "      <th>mean</th>\n",
       "      <th>std</th>\n",
       "      <th>min</th>\n",
       "      <th>25%</th>\n",
       "      <th>50%</th>\n",
       "      <th>75%</th>\n",
       "      <th>max</th>\n",
       "    </tr>\n",
       "  </thead>\n",
       "  <tbody>\n",
       "    <tr>\n",
       "      <th>Age</th>\n",
       "      <td>986.0</td>\n",
       "      <td>41.745436</td>\n",
       "      <td>13.963371</td>\n",
       "      <td>18.0</td>\n",
       "      <td>30.0</td>\n",
       "      <td>42.0</td>\n",
       "      <td>53.0</td>\n",
       "      <td>66.0</td>\n",
       "    </tr>\n",
       "    <tr>\n",
       "      <th>Diabetes</th>\n",
       "      <td>986.0</td>\n",
       "      <td>0.419878</td>\n",
       "      <td>0.493789</td>\n",
       "      <td>0.0</td>\n",
       "      <td>0.0</td>\n",
       "      <td>0.0</td>\n",
       "      <td>1.0</td>\n",
       "      <td>1.0</td>\n",
       "    </tr>\n",
       "    <tr>\n",
       "      <th>BloodPressureProblems</th>\n",
       "      <td>986.0</td>\n",
       "      <td>0.468560</td>\n",
       "      <td>0.499264</td>\n",
       "      <td>0.0</td>\n",
       "      <td>0.0</td>\n",
       "      <td>0.0</td>\n",
       "      <td>1.0</td>\n",
       "      <td>1.0</td>\n",
       "    </tr>\n",
       "    <tr>\n",
       "      <th>AnyTransplants</th>\n",
       "      <td>986.0</td>\n",
       "      <td>0.055781</td>\n",
       "      <td>0.229615</td>\n",
       "      <td>0.0</td>\n",
       "      <td>0.0</td>\n",
       "      <td>0.0</td>\n",
       "      <td>0.0</td>\n",
       "      <td>1.0</td>\n",
       "    </tr>\n",
       "    <tr>\n",
       "      <th>AnyChronicDiseases</th>\n",
       "      <td>986.0</td>\n",
       "      <td>0.180527</td>\n",
       "      <td>0.384821</td>\n",
       "      <td>0.0</td>\n",
       "      <td>0.0</td>\n",
       "      <td>0.0</td>\n",
       "      <td>0.0</td>\n",
       "      <td>1.0</td>\n",
       "    </tr>\n",
       "    <tr>\n",
       "      <th>Height</th>\n",
       "      <td>986.0</td>\n",
       "      <td>168.182556</td>\n",
       "      <td>10.098155</td>\n",
       "      <td>145.0</td>\n",
       "      <td>161.0</td>\n",
       "      <td>168.0</td>\n",
       "      <td>176.0</td>\n",
       "      <td>188.0</td>\n",
       "    </tr>\n",
       "    <tr>\n",
       "      <th>Weight</th>\n",
       "      <td>986.0</td>\n",
       "      <td>76.950304</td>\n",
       "      <td>14.265096</td>\n",
       "      <td>51.0</td>\n",
       "      <td>67.0</td>\n",
       "      <td>75.0</td>\n",
       "      <td>87.0</td>\n",
       "      <td>132.0</td>\n",
       "    </tr>\n",
       "    <tr>\n",
       "      <th>KnownAllergies</th>\n",
       "      <td>986.0</td>\n",
       "      <td>0.215010</td>\n",
       "      <td>0.411038</td>\n",
       "      <td>0.0</td>\n",
       "      <td>0.0</td>\n",
       "      <td>0.0</td>\n",
       "      <td>0.0</td>\n",
       "      <td>1.0</td>\n",
       "    </tr>\n",
       "    <tr>\n",
       "      <th>HistoryOfCancerInFamily</th>\n",
       "      <td>986.0</td>\n",
       "      <td>0.117647</td>\n",
       "      <td>0.322353</td>\n",
       "      <td>0.0</td>\n",
       "      <td>0.0</td>\n",
       "      <td>0.0</td>\n",
       "      <td>0.0</td>\n",
       "      <td>1.0</td>\n",
       "    </tr>\n",
       "    <tr>\n",
       "      <th>NumberOfMajorSurgeries</th>\n",
       "      <td>986.0</td>\n",
       "      <td>0.667343</td>\n",
       "      <td>0.749205</td>\n",
       "      <td>0.0</td>\n",
       "      <td>0.0</td>\n",
       "      <td>1.0</td>\n",
       "      <td>1.0</td>\n",
       "      <td>3.0</td>\n",
       "    </tr>\n",
       "    <tr>\n",
       "      <th>PremiumPrice</th>\n",
       "      <td>986.0</td>\n",
       "      <td>24336.713996</td>\n",
       "      <td>6248.184382</td>\n",
       "      <td>15000.0</td>\n",
       "      <td>21000.0</td>\n",
       "      <td>23000.0</td>\n",
       "      <td>28000.0</td>\n",
       "      <td>40000.0</td>\n",
       "    </tr>\n",
       "  </tbody>\n",
       "</table>\n",
       "</div>"
      ],
      "text/plain": [
       "                         count          mean          std      min      25%  \\\n",
       "Age                      986.0     41.745436    13.963371     18.0     30.0   \n",
       "Diabetes                 986.0      0.419878     0.493789      0.0      0.0   \n",
       "BloodPressureProblems    986.0      0.468560     0.499264      0.0      0.0   \n",
       "AnyTransplants           986.0      0.055781     0.229615      0.0      0.0   \n",
       "AnyChronicDiseases       986.0      0.180527     0.384821      0.0      0.0   \n",
       "Height                   986.0    168.182556    10.098155    145.0    161.0   \n",
       "Weight                   986.0     76.950304    14.265096     51.0     67.0   \n",
       "KnownAllergies           986.0      0.215010     0.411038      0.0      0.0   \n",
       "HistoryOfCancerInFamily  986.0      0.117647     0.322353      0.0      0.0   \n",
       "NumberOfMajorSurgeries   986.0      0.667343     0.749205      0.0      0.0   \n",
       "PremiumPrice             986.0  24336.713996  6248.184382  15000.0  21000.0   \n",
       "\n",
       "                             50%      75%      max  \n",
       "Age                         42.0     53.0     66.0  \n",
       "Diabetes                     0.0      1.0      1.0  \n",
       "BloodPressureProblems        0.0      1.0      1.0  \n",
       "AnyTransplants               0.0      0.0      1.0  \n",
       "AnyChronicDiseases           0.0      0.0      1.0  \n",
       "Height                     168.0    176.0    188.0  \n",
       "Weight                      75.0     87.0    132.0  \n",
       "KnownAllergies               0.0      0.0      1.0  \n",
       "HistoryOfCancerInFamily      0.0      0.0      1.0  \n",
       "NumberOfMajorSurgeries       1.0      1.0      3.0  \n",
       "PremiumPrice             23000.0  28000.0  40000.0  "
      ]
     },
     "execution_count": 10,
     "metadata": {},
     "output_type": "execute_result"
    }
   ],
   "source": [
    "df.describe().T"
   ]
  },
  {
   "cell_type": "markdown",
   "id": "fb6c529e",
   "metadata": {
    "papermill": {
     "duration": 0.046417,
     "end_time": "2025-08-24T06:37:21.957260",
     "exception": false,
     "start_time": "2025-08-24T06:37:21.910843",
     "status": "completed"
    },
    "tags": []
   },
   "source": [
    "**Missing Values Check**"
   ]
  },
  {
   "cell_type": "code",
   "execution_count": 11,
   "id": "71c0f7db",
   "metadata": {
    "execution": {
     "iopub.execute_input": "2025-08-24T06:37:21.969655Z",
     "iopub.status.busy": "2025-08-24T06:37:21.969378Z",
     "iopub.status.idle": "2025-08-24T06:37:21.974708Z",
     "shell.execute_reply": "2025-08-24T06:37:21.974163Z"
    },
    "papermill": {
     "duration": 0.012617,
     "end_time": "2025-08-24T06:37:21.975736",
     "exception": false,
     "start_time": "2025-08-24T06:37:21.963119",
     "status": "completed"
    },
    "tags": []
   },
   "outputs": [
    {
     "data": {
      "text/plain": [
       "Age                        0\n",
       "Diabetes                   0\n",
       "BloodPressureProblems      0\n",
       "AnyTransplants             0\n",
       "AnyChronicDiseases         0\n",
       "Height                     0\n",
       "Weight                     0\n",
       "KnownAllergies             0\n",
       "HistoryOfCancerInFamily    0\n",
       "NumberOfMajorSurgeries     0\n",
       "PremiumPrice               0\n",
       "dtype: int64"
      ]
     },
     "execution_count": 11,
     "metadata": {},
     "output_type": "execute_result"
    }
   ],
   "source": [
    "df.isnull().sum()"
   ]
  },
  {
   "cell_type": "markdown",
   "id": "8eb92e2f",
   "metadata": {
    "papermill": {
     "duration": 0.005522,
     "end_time": "2025-08-24T06:37:21.986926",
     "exception": false,
     "start_time": "2025-08-24T06:37:21.981404",
     "status": "completed"
    },
    "tags": []
   },
   "source": [
    "**Inference**\n",
    "\n",
    "There are no missing values in the dataset"
   ]
  },
  {
   "cell_type": "markdown",
   "id": "1ee0efe7",
   "metadata": {
    "papermill": {
     "duration": 0.005472,
     "end_time": "2025-08-24T06:37:21.998063",
     "exception": false,
     "start_time": "2025-08-24T06:37:21.992591",
     "status": "completed"
    },
    "tags": []
   },
   "source": [
    "# 🧰 Data preprocessing"
   ]
  },
  {
   "cell_type": "markdown",
   "id": "1fb89bbd",
   "metadata": {
    "papermill": {
     "duration": 0.005497,
     "end_time": "2025-08-24T06:37:22.009272",
     "exception": false,
     "start_time": "2025-08-24T06:37:22.003775",
     "status": "completed"
    },
    "tags": []
   },
   "source": [
    "## 👯 Checking duplicates"
   ]
  },
  {
   "cell_type": "code",
   "execution_count": 12,
   "id": "89b92ef3",
   "metadata": {
    "execution": {
     "iopub.execute_input": "2025-08-24T06:37:22.021213Z",
     "iopub.status.busy": "2025-08-24T06:37:22.021039Z",
     "iopub.status.idle": "2025-08-24T06:37:22.027103Z",
     "shell.execute_reply": "2025-08-24T06:37:22.026354Z"
    },
    "papermill": {
     "duration": 0.013266,
     "end_time": "2025-08-24T06:37:22.028203",
     "exception": false,
     "start_time": "2025-08-24T06:37:22.014937",
     "status": "completed"
    },
    "tags": []
   },
   "outputs": [
    {
     "name": "stdout",
     "output_type": "stream",
     "text": [
      "Empty DataFrame\n",
      "Columns: [Age, Diabetes, BloodPressureProblems, AnyTransplants, AnyChronicDiseases, Height, Weight, KnownAllergies, HistoryOfCancerInFamily, NumberOfMajorSurgeries, PremiumPrice]\n",
      "Index: []\n"
     ]
    }
   ],
   "source": [
    "print(df[df.duplicated()])"
   ]
  },
  {
   "cell_type": "markdown",
   "id": "cedf090f",
   "metadata": {
    "papermill": {
     "duration": 0.005513,
     "end_time": "2025-08-24T06:37:22.039753",
     "exception": false,
     "start_time": "2025-08-24T06:37:22.034240",
     "status": "completed"
    },
    "tags": []
   },
   "source": [
    "## 👾 Handling outliers"
   ]
  },
  {
   "cell_type": "code",
   "execution_count": 13,
   "id": "8ef58027",
   "metadata": {
    "execution": {
     "iopub.execute_input": "2025-08-24T06:37:22.052509Z",
     "iopub.status.busy": "2025-08-24T06:37:22.052307Z",
     "iopub.status.idle": "2025-08-24T06:37:22.485035Z",
     "shell.execute_reply": "2025-08-24T06:37:22.484394Z"
    },
    "papermill": {
     "duration": 0.443106,
     "end_time": "2025-08-24T06:37:22.488820",
     "exception": false,
     "start_time": "2025-08-24T06:37:22.045714",
     "status": "completed"
    },
    "tags": []
   },
   "outputs": [
    {
     "data": {
      "image/png": "[encoded data removed]",
      "text/plain": [
       "<Figure size 3000x1500 with 1 Axes>"
      ]
     },
     "metadata": {},
     "output_type": "display_data"
    }
   ],
   "source": [
    "df.boxplot(rot=45, figsize=(30,15), fontsize = 25)\n",
    "plt.show()"
   ]
  },
  {
   "cell_type": "markdown",
   "id": "96c9b6cc",
   "metadata": {
    "papermill": {
     "duration": 0.0091,
     "end_time": "2025-08-24T06:37:22.507937",
     "exception": false,
     "start_time": "2025-08-24T06:37:22.498837",
     "status": "completed"
    },
    "tags": []
   },
   "source": [
    "**Inference**\n",
    "\n",
    "The dataset contains very few outliers, and given its relatively small size, we have chosen not to remove any outliers to preserve the integrity of the data."
   ]
  },
  {
   "cell_type": "markdown",
   "id": "15b49cc7",
   "metadata": {
    "papermill": {
     "duration": 0.008834,
     "end_time": "2025-08-24T06:37:22.525773",
     "exception": false,
     "start_time": "2025-08-24T06:37:22.516939",
     "status": "completed"
    },
    "tags": []
   },
   "source": [
    "## 🛠️ Feature Engineering"
   ]
  },
  {
   "cell_type": "markdown",
   "id": "441f914b",
   "metadata": {
    "papermill": {
     "duration": 0.008868,
     "end_time": "2025-08-24T06:37:22.543663",
     "exception": false,
     "start_time": "2025-08-24T06:37:22.534795",
     "status": "completed"
    },
    "tags": []
   },
   "source": [
    "**Creating feature BMI using height and weight of the users**"
   ]
  },
  {
   "cell_type": "markdown",
   "id": "ccfb56bc",
   "metadata": {
    "papermill": {
     "duration": 0.009336,
     "end_time": "2025-08-24T06:37:22.562084",
     "exception": false,
     "start_time": "2025-08-24T06:37:22.552748",
     "status": "completed"
    },
    "tags": []
   },
   "source": [
    "The formula for Body Mass Index (BMI) is:\n",
    "\n",
    "$$ \\mathrm{BMI} = \\frac{\\text{weight}_{\\mathrm{kg}}}{\\text{height}_{\\mathrm{m}}^{2}} $$\n",
    "\n"
   ]
  },
  {
   "cell_type": "code",
   "execution_count": 14,
   "id": "0c7c7491",
   "metadata": {
    "execution": {
     "iopub.execute_input": "2025-08-24T06:37:22.581588Z",
     "iopub.status.busy": "2025-08-24T06:37:22.581333Z",
     "iopub.status.idle": "2025-08-24T06:37:22.594834Z",
     "shell.execute_reply": "2025-08-24T06:37:22.594237Z"
    },
    "papermill": {
     "duration": 0.024339,
     "end_time": "2025-08-24T06:37:22.595919",
     "exception": false,
     "start_time": "2025-08-24T06:37:22.571580",
     "status": "completed"
    },
    "tags": []
   },
   "outputs": [
    {
     "data": {
      "text/html": [
       "<div>\n",
       "<style scoped>\n",
       "    .dataframe tbody tr th:only-of-type {\n",
       "        vertical-align: middle;\n",
       "    }\n",
       "\n",
       "    .dataframe tbody tr th {\n",
       "        vertical-align: top;\n",
       "    }\n",
       "\n",
       "    .dataframe thead th {\n",
       "        text-align: right;\n",
       "    }\n",
       "</style>\n",
       "<table border=\"1\" class=\"dataframe\">\n",
       "  <thead>\n",
       "    <tr style=\"text-align: right;\">\n",
       "      <th></th>\n",
       "      <th>Age</th>\n",
       "      <th>Diabetes</th>\n",
       "      <th>BloodPressureProblems</th>\n",
       "      <th>AnyTransplants</th>\n",
       "      <th>AnyChronicDiseases</th>\n",
       "      <th>Height</th>\n",
       "      <th>Weight</th>\n",
       "      <th>KnownAllergies</th>\n",
       "      <th>HistoryOfCancerInFamily</th>\n",
       "      <th>NumberOfMajorSurgeries</th>\n",
       "      <th>PremiumPrice</th>\n",
       "      <th>BMI</th>\n",
       "    </tr>\n",
       "  </thead>\n",
       "  <tbody>\n",
       "    <tr>\n",
       "      <th>0</th>\n",
       "      <td>45</td>\n",
       "      <td>0</td>\n",
       "      <td>0</td>\n",
       "      <td>0</td>\n",
       "      <td>0</td>\n",
       "      <td>155</td>\n",
       "      <td>57</td>\n",
       "      <td>0</td>\n",
       "      <td>0</td>\n",
       "      <td>0</td>\n",
       "      <td>25000</td>\n",
       "      <td>23.725286</td>\n",
       "    </tr>\n",
       "    <tr>\n",
       "      <th>1</th>\n",
       "      <td>60</td>\n",
       "      <td>1</td>\n",
       "      <td>0</td>\n",
       "      <td>0</td>\n",
       "      <td>0</td>\n",
       "      <td>180</td>\n",
       "      <td>73</td>\n",
       "      <td>0</td>\n",
       "      <td>0</td>\n",
       "      <td>0</td>\n",
       "      <td>29000</td>\n",
       "      <td>22.530864</td>\n",
       "    </tr>\n",
       "    <tr>\n",
       "      <th>2</th>\n",
       "      <td>36</td>\n",
       "      <td>1</td>\n",
       "      <td>1</td>\n",
       "      <td>0</td>\n",
       "      <td>0</td>\n",
       "      <td>158</td>\n",
       "      <td>59</td>\n",
       "      <td>0</td>\n",
       "      <td>0</td>\n",
       "      <td>1</td>\n",
       "      <td>23000</td>\n",
       "      <td>23.634033</td>\n",
       "    </tr>\n",
       "    <tr>\n",
       "      <th>3</th>\n",
       "      <td>52</td>\n",
       "      <td>1</td>\n",
       "      <td>1</td>\n",
       "      <td>0</td>\n",
       "      <td>1</td>\n",
       "      <td>183</td>\n",
       "      <td>93</td>\n",
       "      <td>0</td>\n",
       "      <td>0</td>\n",
       "      <td>2</td>\n",
       "      <td>28000</td>\n",
       "      <td>27.770313</td>\n",
       "    </tr>\n",
       "    <tr>\n",
       "      <th>4</th>\n",
       "      <td>38</td>\n",
       "      <td>0</td>\n",
       "      <td>0</td>\n",
       "      <td>0</td>\n",
       "      <td>1</td>\n",
       "      <td>166</td>\n",
       "      <td>88</td>\n",
       "      <td>0</td>\n",
       "      <td>0</td>\n",
       "      <td>1</td>\n",
       "      <td>23000</td>\n",
       "      <td>31.934969</td>\n",
       "    </tr>\n",
       "    <tr>\n",
       "      <th>...</th>\n",
       "      <td>...</td>\n",
       "      <td>...</td>\n",
       "      <td>...</td>\n",
       "      <td>...</td>\n",
       "      <td>...</td>\n",
       "      <td>...</td>\n",
       "      <td>...</td>\n",
       "      <td>...</td>\n",
       "      <td>...</td>\n",
       "      <td>...</td>\n",
       "      <td>...</td>\n",
       "      <td>...</td>\n",
       "    </tr>\n",
       "    <tr>\n",
       "      <th>981</th>\n",
       "      <td>18</td>\n",
       "      <td>0</td>\n",
       "      <td>0</td>\n",
       "      <td>0</td>\n",
       "      <td>0</td>\n",
       "      <td>169</td>\n",
       "      <td>67</td>\n",
       "      <td>0</td>\n",
       "      <td>0</td>\n",
       "      <td>0</td>\n",
       "      <td>15000</td>\n",
       "      <td>23.458562</td>\n",
       "    </tr>\n",
       "    <tr>\n",
       "      <th>982</th>\n",
       "      <td>64</td>\n",
       "      <td>1</td>\n",
       "      <td>1</td>\n",
       "      <td>0</td>\n",
       "      <td>0</td>\n",
       "      <td>153</td>\n",
       "      <td>70</td>\n",
       "      <td>0</td>\n",
       "      <td>0</td>\n",
       "      <td>3</td>\n",
       "      <td>28000</td>\n",
       "      <td>29.903029</td>\n",
       "    </tr>\n",
       "    <tr>\n",
       "      <th>983</th>\n",
       "      <td>56</td>\n",
       "      <td>0</td>\n",
       "      <td>1</td>\n",
       "      <td>0</td>\n",
       "      <td>0</td>\n",
       "      <td>155</td>\n",
       "      <td>71</td>\n",
       "      <td>0</td>\n",
       "      <td>0</td>\n",
       "      <td>1</td>\n",
       "      <td>29000</td>\n",
       "      <td>29.552549</td>\n",
       "    </tr>\n",
       "    <tr>\n",
       "      <th>984</th>\n",
       "      <td>47</td>\n",
       "      <td>1</td>\n",
       "      <td>1</td>\n",
       "      <td>0</td>\n",
       "      <td>0</td>\n",
       "      <td>158</td>\n",
       "      <td>73</td>\n",
       "      <td>1</td>\n",
       "      <td>0</td>\n",
       "      <td>1</td>\n",
       "      <td>39000</td>\n",
       "      <td>29.242109</td>\n",
       "    </tr>\n",
       "    <tr>\n",
       "      <th>985</th>\n",
       "      <td>21</td>\n",
       "      <td>0</td>\n",
       "      <td>0</td>\n",
       "      <td>0</td>\n",
       "      <td>0</td>\n",
       "      <td>158</td>\n",
       "      <td>75</td>\n",
       "      <td>1</td>\n",
       "      <td>0</td>\n",
       "      <td>1</td>\n",
       "      <td>15000</td>\n",
       "      <td>30.043262</td>\n",
       "    </tr>\n",
       "  </tbody>\n",
       "</table>\n",
       "<p>986 rows × 12 columns</p>\n",
       "</div>"
      ],
      "text/plain": [
       "     Age  Diabetes  BloodPressureProblems  AnyTransplants  AnyChronicDiseases  \\\n",
       "0     45         0                      0               0                   0   \n",
       "1     60         1                      0               0                   0   \n",
       "2     36         1                      1               0                   0   \n",
       "3     52         1                      1               0                   1   \n",
       "4     38         0                      0               0                   1   \n",
       "..   ...       ...                    ...             ...                 ...   \n",
       "981   18         0                      0               0                   0   \n",
       "982   64         1                      1               0                   0   \n",
       "983   56         0                      1               0                   0   \n",
       "984   47         1                      1               0                   0   \n",
       "985   21         0                      0               0                   0   \n",
       "\n",
       "     Height  Weight  KnownAllergies  HistoryOfCancerInFamily  \\\n",
       "0       155      57               0                        0   \n",
       "1       180      73               0                        0   \n",
       "2       158      59               0                        0   \n",
       "3       183      93               0                        0   \n",
       "4       166      88               0                        0   \n",
       "..      ...     ...             ...                      ...   \n",
       "981     169      67               0                        0   \n",
       "982     153      70               0                        0   \n",
       "983     155      71               0                        0   \n",
       "984     158      73               1                        0   \n",
       "985     158      75               1                        0   \n",
       "\n",
       "     NumberOfMajorSurgeries  PremiumPrice        BMI  \n",
       "0                         0         25000  23.725286  \n",
       "1                         0         29000  22.530864  \n",
       "2                         1         23000  23.634033  \n",
       "3                         2         28000  27.770313  \n",
       "4                         1         23000  31.934969  \n",
       "..                      ...           ...        ...  \n",
       "981                       0         15000  23.458562  \n",
       "982                       3         28000  29.903029  \n",
       "983                       1         29000  29.552549  \n",
       "984                       1         39000  29.242109  \n",
       "985                       1         15000  30.043262  \n",
       "\n",
       "[986 rows x 12 columns]"
      ]
     },
     "execution_count": 14,
     "metadata": {},
     "output_type": "execute_result"
    }
   ],
   "source": [
    "df['BMI'] = df['Weight'] / ((df['Height'] / 100) ** 2)\n",
    "df"
   ]
  },
  {
   "cell_type": "code",
   "execution_count": 15,
   "id": "33a25ba1",
   "metadata": {
    "execution": {
     "iopub.execute_input": "2025-08-24T06:37:22.616090Z",
     "iopub.status.busy": "2025-08-24T06:37:22.615892Z",
     "iopub.status.idle": "2025-08-24T06:37:22.705814Z",
     "shell.execute_reply": "2025-08-24T06:37:22.705180Z"
    },
    "papermill": {
     "duration": 0.10106,
     "end_time": "2025-08-24T06:37:22.706785",
     "exception": false,
     "start_time": "2025-08-24T06:37:22.605725",
     "status": "completed"
    },
    "tags": []
   },
   "outputs": [
    {
     "data": {
      "image/png": "[encoded data removed]",
      "text/plain": [
       "<Figure size 640x480 with 1 Axes>"
      ]
     },
     "metadata": {},
     "output_type": "display_data"
    }
   ],
   "source": [
    "sns.boxplot(data=df, x='BMI')\n",
    "plt.show()"
   ]
  },
  {
   "cell_type": "markdown",
   "id": "6a8b9a64",
   "metadata": {
    "papermill": {
     "duration": 0.009893,
     "end_time": "2025-08-24T06:37:22.726714",
     "exception": false,
     "start_time": "2025-08-24T06:37:22.716821",
     "status": "completed"
    },
    "tags": []
   },
   "source": [
    "## "
   ]
  },
  {
   "cell_type": "markdown",
   "id": "17078b7e",
   "metadata": {
    "papermill": {
     "duration": 0.009816,
     "end_time": "2025-08-24T06:37:22.746434",
     "exception": false,
     "start_time": "2025-08-24T06:37:22.736618",
     "status": "completed"
    },
    "tags": []
   },
   "source": [
    "# 📈 Exploratory data analysis"
   ]
  },
  {
   "cell_type": "code",
   "execution_count": 16,
   "id": "8b18389d",
   "metadata": {
    "execution": {
     "iopub.execute_input": "2025-08-24T06:37:22.766897Z",
     "iopub.status.busy": "2025-08-24T06:37:22.766685Z",
     "iopub.status.idle": "2025-08-24T06:37:22.769655Z",
     "shell.execute_reply": "2025-08-24T06:37:22.769111Z"
    },
    "papermill": {
     "duration": 0.014047,
     "end_time": "2025-08-24T06:37:22.770686",
     "exception": false,
     "start_time": "2025-08-24T06:37:22.756639",
     "status": "completed"
    },
    "tags": []
   },
   "outputs": [],
   "source": [
    "data = df"
   ]
  },
  {
   "cell_type": "code",
   "execution_count": 17,
   "id": "b7f2bc93",
   "metadata": {
    "execution": {
     "iopub.execute_input": "2025-08-24T06:37:22.792078Z",
     "iopub.status.busy": "2025-08-24T06:37:22.791873Z",
     "iopub.status.idle": "2025-08-24T06:37:22.795943Z",
     "shell.execute_reply": "2025-08-24T06:37:22.795421Z"
    },
    "papermill": {
     "duration": 0.016469,
     "end_time": "2025-08-24T06:37:22.796920",
     "exception": false,
     "start_time": "2025-08-24T06:37:22.780451",
     "status": "completed"
    },
    "tags": []
   },
   "outputs": [
    {
     "data": {
      "text/plain": [
       "66"
      ]
     },
     "execution_count": 17,
     "metadata": {},
     "output_type": "execute_result"
    }
   ],
   "source": [
    "data['Age'].max()"
   ]
  },
  {
   "cell_type": "code",
   "execution_count": 18,
   "id": "81d9f4ec",
   "metadata": {
    "execution": {
     "iopub.execute_input": "2025-08-24T06:37:22.817765Z",
     "iopub.status.busy": "2025-08-24T06:37:22.817566Z",
     "iopub.status.idle": "2025-08-24T06:37:22.833746Z",
     "shell.execute_reply": "2025-08-24T06:37:22.833043Z"
    },
    "papermill": {
     "duration": 0.027845,
     "end_time": "2025-08-24T06:37:22.834908",
     "exception": false,
     "start_time": "2025-08-24T06:37:22.807063",
     "status": "completed"
    },
    "tags": []
   },
   "outputs": [
    {
     "data": {
      "text/html": [
       "<div>\n",
       "<style scoped>\n",
       "    .dataframe tbody tr th:only-of-type {\n",
       "        vertical-align: middle;\n",
       "    }\n",
       "\n",
       "    .dataframe tbody tr th {\n",
       "        vertical-align: top;\n",
       "    }\n",
       "\n",
       "    .dataframe thead th {\n",
       "        text-align: right;\n",
       "    }\n",
       "</style>\n",
       "<table border=\"1\" class=\"dataframe\">\n",
       "  <thead>\n",
       "    <tr style=\"text-align: right;\">\n",
       "      <th></th>\n",
       "      <th>Age</th>\n",
       "      <th>Diabetes</th>\n",
       "      <th>BloodPressureProblems</th>\n",
       "      <th>AnyTransplants</th>\n",
       "      <th>AnyChronicDiseases</th>\n",
       "      <th>Height</th>\n",
       "      <th>Weight</th>\n",
       "      <th>KnownAllergies</th>\n",
       "      <th>HistoryOfCancerInFamily</th>\n",
       "      <th>NumberOfMajorSurgeries</th>\n",
       "      <th>PremiumPrice</th>\n",
       "      <th>BMI</th>\n",
       "      <th>age_category</th>\n",
       "    </tr>\n",
       "  </thead>\n",
       "  <tbody>\n",
       "    <tr>\n",
       "      <th>0</th>\n",
       "      <td>45</td>\n",
       "      <td>0</td>\n",
       "      <td>0</td>\n",
       "      <td>0</td>\n",
       "      <td>0</td>\n",
       "      <td>155</td>\n",
       "      <td>57</td>\n",
       "      <td>0</td>\n",
       "      <td>0</td>\n",
       "      <td>0</td>\n",
       "      <td>25000</td>\n",
       "      <td>23.725286</td>\n",
       "      <td>middle age</td>\n",
       "    </tr>\n",
       "    <tr>\n",
       "      <th>1</th>\n",
       "      <td>60</td>\n",
       "      <td>1</td>\n",
       "      <td>0</td>\n",
       "      <td>0</td>\n",
       "      <td>0</td>\n",
       "      <td>180</td>\n",
       "      <td>73</td>\n",
       "      <td>0</td>\n",
       "      <td>0</td>\n",
       "      <td>0</td>\n",
       "      <td>29000</td>\n",
       "      <td>22.530864</td>\n",
       "      <td>old</td>\n",
       "    </tr>\n",
       "    <tr>\n",
       "      <th>2</th>\n",
       "      <td>36</td>\n",
       "      <td>1</td>\n",
       "      <td>1</td>\n",
       "      <td>0</td>\n",
       "      <td>0</td>\n",
       "      <td>158</td>\n",
       "      <td>59</td>\n",
       "      <td>0</td>\n",
       "      <td>0</td>\n",
       "      <td>1</td>\n",
       "      <td>23000</td>\n",
       "      <td>23.634033</td>\n",
       "      <td>middle age</td>\n",
       "    </tr>\n",
       "    <tr>\n",
       "      <th>3</th>\n",
       "      <td>52</td>\n",
       "      <td>1</td>\n",
       "      <td>1</td>\n",
       "      <td>0</td>\n",
       "      <td>1</td>\n",
       "      <td>183</td>\n",
       "      <td>93</td>\n",
       "      <td>0</td>\n",
       "      <td>0</td>\n",
       "      <td>2</td>\n",
       "      <td>28000</td>\n",
       "      <td>27.770313</td>\n",
       "      <td>old</td>\n",
       "    </tr>\n",
       "    <tr>\n",
       "      <th>4</th>\n",
       "      <td>38</td>\n",
       "      <td>0</td>\n",
       "      <td>0</td>\n",
       "      <td>0</td>\n",
       "      <td>1</td>\n",
       "      <td>166</td>\n",
       "      <td>88</td>\n",
       "      <td>0</td>\n",
       "      <td>0</td>\n",
       "      <td>1</td>\n",
       "      <td>23000</td>\n",
       "      <td>31.934969</td>\n",
       "      <td>middle age</td>\n",
       "    </tr>\n",
       "    <tr>\n",
       "      <th>...</th>\n",
       "      <td>...</td>\n",
       "      <td>...</td>\n",
       "      <td>...</td>\n",
       "      <td>...</td>\n",
       "      <td>...</td>\n",
       "      <td>...</td>\n",
       "      <td>...</td>\n",
       "      <td>...</td>\n",
       "      <td>...</td>\n",
       "      <td>...</td>\n",
       "      <td>...</td>\n",
       "      <td>...</td>\n",
       "      <td>...</td>\n",
       "    </tr>\n",
       "    <tr>\n",
       "      <th>981</th>\n",
       "      <td>18</td>\n",
       "      <td>0</td>\n",
       "      <td>0</td>\n",
       "      <td>0</td>\n",
       "      <td>0</td>\n",
       "      <td>169</td>\n",
       "      <td>67</td>\n",
       "      <td>0</td>\n",
       "      <td>0</td>\n",
       "      <td>0</td>\n",
       "      <td>15000</td>\n",
       "      <td>23.458562</td>\n",
       "      <td>young</td>\n",
       "    </tr>\n",
       "    <tr>\n",
       "      <th>982</th>\n",
       "      <td>64</td>\n",
       "      <td>1</td>\n",
       "      <td>1</td>\n",
       "      <td>0</td>\n",
       "      <td>0</td>\n",
       "      <td>153</td>\n",
       "      <td>70</td>\n",
       "      <td>0</td>\n",
       "      <td>0</td>\n",
       "      <td>3</td>\n",
       "      <td>28000</td>\n",
       "      <td>29.903029</td>\n",
       "      <td>old</td>\n",
       "    </tr>\n",
       "    <tr>\n",
       "      <th>983</th>\n",
       "      <td>56</td>\n",
       "      <td>0</td>\n",
       "      <td>1</td>\n",
       "      <td>0</td>\n",
       "      <td>0</td>\n",
       "      <td>155</td>\n",
       "      <td>71</td>\n",
       "      <td>0</td>\n",
       "      <td>0</td>\n",
       "      <td>1</td>\n",
       "      <td>29000</td>\n",
       "      <td>29.552549</td>\n",
       "      <td>old</td>\n",
       "    </tr>\n",
       "    <tr>\n",
       "      <th>984</th>\n",
       "      <td>47</td>\n",
       "      <td>1</td>\n",
       "      <td>1</td>\n",
       "      <td>0</td>\n",
       "      <td>0</td>\n",
       "      <td>158</td>\n",
       "      <td>73</td>\n",
       "      <td>1</td>\n",
       "      <td>0</td>\n",
       "      <td>1</td>\n",
       "      <td>39000</td>\n",
       "      <td>29.242109</td>\n",
       "      <td>middle age</td>\n",
       "    </tr>\n",
       "    <tr>\n",
       "      <th>985</th>\n",
       "      <td>21</td>\n",
       "      <td>0</td>\n",
       "      <td>0</td>\n",
       "      <td>0</td>\n",
       "      <td>0</td>\n",
       "      <td>158</td>\n",
       "      <td>75</td>\n",
       "      <td>1</td>\n",
       "      <td>0</td>\n",
       "      <td>1</td>\n",
       "      <td>15000</td>\n",
       "      <td>30.043262</td>\n",
       "      <td>young</td>\n",
       "    </tr>\n",
       "  </tbody>\n",
       "</table>\n",
       "<p>986 rows × 13 columns</p>\n",
       "</div>"
      ],
      "text/plain": [
       "     Age  Diabetes  BloodPressureProblems  AnyTransplants  AnyChronicDiseases  \\\n",
       "0     45         0                      0               0                   0   \n",
       "1     60         1                      0               0                   0   \n",
       "2     36         1                      1               0                   0   \n",
       "3     52         1                      1               0                   1   \n",
       "4     38         0                      0               0                   1   \n",
       "..   ...       ...                    ...             ...                 ...   \n",
       "981   18         0                      0               0                   0   \n",
       "982   64         1                      1               0                   0   \n",
       "983   56         0                      1               0                   0   \n",
       "984   47         1                      1               0                   0   \n",
       "985   21         0                      0               0                   0   \n",
       "\n",
       "     Height  Weight  KnownAllergies  HistoryOfCancerInFamily  \\\n",
       "0       155      57               0                        0   \n",
       "1       180      73               0                        0   \n",
       "2       158      59               0                        0   \n",
       "3       183      93               0                        0   \n",
       "4       166      88               0                        0   \n",
       "..      ...     ...             ...                      ...   \n",
       "981     169      67               0                        0   \n",
       "982     153      70               0                        0   \n",
       "983     155      71               0                        0   \n",
       "984     158      73               1                        0   \n",
       "985     158      75               1                        0   \n",
       "\n",
       "     NumberOfMajorSurgeries  PremiumPrice        BMI age_category  \n",
       "0                         0         25000  23.725286   middle age  \n",
       "1                         0         29000  22.530864          old  \n",
       "2                         1         23000  23.634033   middle age  \n",
       "3                         2         28000  27.770313          old  \n",
       "4                         1         23000  31.934969   middle age  \n",
       "..                      ...           ...        ...          ...  \n",
       "981                       0         15000  23.458562        young  \n",
       "982                       3         28000  29.903029          old  \n",
       "983                       1         29000  29.552549          old  \n",
       "984                       1         39000  29.242109   middle age  \n",
       "985                       1         15000  30.043262        young  \n",
       "\n",
       "[986 rows x 13 columns]"
      ]
     },
     "execution_count": 18,
     "metadata": {},
     "output_type": "execute_result"
    }
   ],
   "source": [
    "data['age_category'] = pd.cut(data['Age'], bins=[17,30,50,66], labels = ['young','middle age','old'])\n",
    "data"
   ]
  },
  {
   "cell_type": "code",
   "execution_count": 19,
   "id": "fe78b912",
   "metadata": {
    "execution": {
     "iopub.execute_input": "2025-08-24T06:37:22.857688Z",
     "iopub.status.busy": "2025-08-24T06:37:22.857168Z",
     "iopub.status.idle": "2025-08-24T06:37:23.484002Z",
     "shell.execute_reply": "2025-08-24T06:37:23.483377Z"
    },
    "papermill": {
     "duration": 0.639075,
     "end_time": "2025-08-24T06:37:23.485121",
     "exception": false,
     "start_time": "2025-08-24T06:37:22.846046",
     "status": "completed"
    },
    "tags": []
   },
   "outputs": [
    {
     "data": {
      "text/html": [
       "<html>\n",
       "<head><meta charset=\"utf-8\" /></head>\n",
       "<body>\n",
       "    <div>            <script src=\"https://cdnjs.cloudflare.com/ajax/libs/mathjax/2.7.5/MathJax.js?config=TeX-AMS-MML_SVG\"></script><script type=\"text/javascript\">if (window.MathJax && window.MathJax.Hub && window.MathJax.Hub.Config) {window.MathJax.Hub.Config({SVG: {font: \"STIX-Web\"}});}</script>                <script type=\"text/javascript\">window.PlotlyConfig = {MathJaxConfig: 'local'};</script>\n",
       "        <script charset=\"utf-8\" src=\"https://cdn.plot.ly/plotly-2.35.2.min.js\"></script>                <div id=\"c396f429-c99a-4e03-b08c-df08b8096757\" class=\"plotly-graph-div\" style=\"height:525px; width:100%;\"></div>            <script type=\"text/javascript\">                                    window.PLOTLYENV=window.PLOTLYENV || {};                                    if (document.getElementById(\"c396f429-c99a-4e03-b08c-df08b8096757\")) {                    Plotly.newPlot(                        \"c396f429-c99a-4e03-b08c-df08b8096757\",                        [{\"marker\":{\"color\":[\"#3C4F76\",\"#D1BEB0\",\"#AB9F9D\"]},\"x\":[\"middle age\",\"old\",\"young\"],\"y\":[429,296,261],\"type\":\"bar\",\"xaxis\":\"x\",\"yaxis\":\"y\"},{\"hoverinfo\":\"label+value\",\"labels\":[\"middle age\",\"old\",\"young\"],\"marker\":{\"colors\":[\"#3C4F76\",\"#D1BEB0\",\"#AB9F9D\"],\"line\":{\"color\":\"#000000\",\"width\":2}},\"textfont\":{\"size\":20},\"textinfo\":\"percent\",\"values\":[429,296,261],\"type\":\"pie\",\"domain\":{\"x\":[0.55,1.0],\"y\":[0.0,1.0]}}],                        {\"template\":{\"data\":{\"histogram2dcontour\":[{\"type\":\"histogram2dcontour\",\"colorbar\":{\"outlinewidth\":0,\"ticks\":\"\"},\"colorscale\":[[0.0,\"#0d0887\"],[0.1111111111111111,\"#46039f\"],[0.2222222222222222,\"#7201a8\"],[0.3333333333333333,\"#9c179e\"],[0.4444444444444444,\"#bd3786\"],[0.5555555555555556,\"#d8576b\"],[0.6666666666666666,\"#ed7953\"],[0.7777777777777778,\"#fb9f3a\"],[0.8888888888888888,\"#fdca26\"],[1.0,\"#f0f921\"]]}],\"choropleth\":[{\"type\":\"choropleth\",\"colorbar\":{\"outlinewidth\":0,\"ticks\":\"\"}}],\"histogram2d\":[{\"type\":\"histogram2d\",\"colorbar\":{\"outlinewidth\":0,\"ticks\":\"\"},\"colorscale\":[[0.0,\"#0d0887\"],[0.1111111111111111,\"#46039f\"],[0.2222222222222222,\"#7201a8\"],[0.3333333333333333,\"#9c179e\"],[0.4444444444444444,\"#bd3786\"],[0.5555555555555556,\"#d8576b\"],[0.6666666666666666,\"#ed7953\"],[0.7777777777777778,\"#fb9f3a\"],[0.8888888888888888,\"#fdca26\"],[1.0,\"#f0f921\"]]}],\"heatmap\":[{\"type\":\"heatmap\",\"colorbar\":{\"outlinewidth\":0,\"ticks\":\"\"},\"colorscale\":[[0.0,\"#0d0887\"],[0.1111111111111111,\"#46039f\"],[0.2222222222222222,\"#7201a8\"],[0.3333333333333333,\"#9c179e\"],[0.4444444444444444,\"#bd3786\"],[0.5555555555555556,\"#d8576b\"],[0.6666666666666666,\"#ed7953\"],[0.7777777777777778,\"#fb9f3a\"],[0.8888888888888888,\"#fdca26\"],[1.0,\"#f0f921\"]]}],\"heatmapgl\":[{\"type\":\"heatmapgl\",\"colorbar\":{\"outlinewidth\":0,\"ticks\":\"\"},\"colorscale\":[[0.0,\"#0d0887\"],[0.1111111111111111,\"#46039f\"],[0.2222222222222222,\"#7201a8\"],[0.3333333333333333,\"#9c179e\"],[0.4444444444444444,\"#bd3786\"],[0.5555555555555556,\"#d8576b\"],[0.6666666666666666,\"#ed7953\"],[0.7777777777777778,\"#fb9f3a\"],[0.8888888888888888,\"#fdca26\"],[1.0,\"#f0f921\"]]}],\"contourcarpet\":[{\"type\":\"contourcarpet\",\"colorbar\":{\"outlinewidth\":0,\"ticks\":\"\"}}],\"contour\":[{\"type\":\"contour\",\"colorbar\":{\"outlinewidth\":0,\"ticks\":\"\"},\"colorscale\":[[0.0,\"#0d0887\"],[0.1111111111111111,\"#46039f\"],[0.2222222222222222,\"#7201a8\"],[0.3333333333333333,\"#9c179e\"],[0.4444444444444444,\"#bd3786\"],[0.5555555555555556,\"#d8576b\"],[0.6666666666666666,\"#ed7953\"],[0.7777777777777778,\"#fb9f3a\"],[0.8888888888888888,\"#fdca26\"],[1.0,\"#f0f921\"]]}],\"surface\":[{\"type\":\"surface\",\"colorbar\":{\"outlinewidth\":0,\"ticks\":\"\"},\"colorscale\":[[0.0,\"#0d0887\"],[0.1111111111111111,\"#46039f\"],[0.2222222222222222,\"#7201a8\"],[0.3333333333333333,\"#9c179e\"],[0.4444444444444444,\"#bd3786\"],[0.5555555555555556,\"#d8576b\"],[0.6666666666666666,\"#ed7953\"],[0.7777777777777778,\"#fb9f3a\"],[0.8888888888888888,\"#fdca26\"],[1.0,\"#f0f921\"]]}],\"mesh3d\":[{\"type\":\"mesh3d\",\"colorbar\":{\"outlinewidth\":0,\"ticks\":\"\"}}],\"scatter\":[{\"fillpattern\":{\"fillmode\":\"overlay\",\"size\":10,\"solidity\":0.2},\"type\":\"scatter\"}],\"parcoords\":[{\"type\":\"parcoords\",\"line\":{\"colorbar\":{\"outlinewidth\":0,\"ticks\":\"\"}}}],\"scatterpolargl\":[{\"type\":\"scatterpolargl\",\"marker\":{\"colorbar\":{\"outlinewidth\":0,\"ticks\":\"\"}}}],\"bar\":[{\"error_x\":{\"color\":\"#2a3f5f\"},\"error_y\":{\"color\":\"#2a3f5f\"},\"marker\":{\"line\":{\"color\":\"#E5ECF6\",\"width\":0.5},\"pattern\":{\"fillmode\":\"overlay\",\"size\":10,\"solidity\":0.2}},\"type\":\"bar\"}],\"scattergeo\":[{\"type\":\"scattergeo\",\"marker\":{\"colorbar\":{\"outlinewidth\":0,\"ticks\":\"\"}}}],\"scatterpolar\":[{\"type\":\"scatterpolar\",\"marker\":{\"colorbar\":{\"outlinewidth\":0,\"ticks\":\"\"}}}],\"histogram\":[{\"marker\":{\"pattern\":{\"fillmode\":\"overlay\",\"size\":10,\"solidity\":0.2}},\"type\":\"histogram\"}],\"scattergl\":[{\"type\":\"scattergl\",\"marker\":{\"colorbar\":{\"outlinewidth\":0,\"ticks\":\"\"}}}],\"scatter3d\":[{\"type\":\"scatter3d\",\"line\":{\"colorbar\":{\"outlinewidth\":0,\"ticks\":\"\"}},\"marker\":{\"colorbar\":{\"outlinewidth\":0,\"ticks\":\"\"}}}],\"scattermapbox\":[{\"type\":\"scattermapbox\",\"marker\":{\"colorbar\":{\"outlinewidth\":0,\"ticks\":\"\"}}}],\"scatterternary\":[{\"type\":\"scatterternary\",\"marker\":{\"colorbar\":{\"outlinewidth\":0,\"ticks\":\"\"}}}],\"scattercarpet\":[{\"type\":\"scattercarpet\",\"marker\":{\"colorbar\":{\"outlinewidth\":0,\"ticks\":\"\"}}}],\"carpet\":[{\"aaxis\":{\"endlinecolor\":\"#2a3f5f\",\"gridcolor\":\"white\",\"linecolor\":\"white\",\"minorgridcolor\":\"white\",\"startlinecolor\":\"#2a3f5f\"},\"baxis\":{\"endlinecolor\":\"#2a3f5f\",\"gridcolor\":\"white\",\"linecolor\":\"white\",\"minorgridcolor\":\"white\",\"startlinecolor\":\"#2a3f5f\"},\"type\":\"carpet\"}],\"table\":[{\"cells\":{\"fill\":{\"color\":\"#EBF0F8\"},\"line\":{\"color\":\"white\"}},\"header\":{\"fill\":{\"color\":\"#C8D4E3\"},\"line\":{\"color\":\"white\"}},\"type\":\"table\"}],\"barpolar\":[{\"marker\":{\"line\":{\"color\":\"#E5ECF6\",\"width\":0.5},\"pattern\":{\"fillmode\":\"overlay\",\"size\":10,\"solidity\":0.2}},\"type\":\"barpolar\"}],\"pie\":[{\"automargin\":true,\"type\":\"pie\"}]},\"layout\":{\"autotypenumbers\":\"strict\",\"colorway\":[\"#636efa\",\"#EF553B\",\"#00cc96\",\"#ab63fa\",\"#FFA15A\",\"#19d3f3\",\"#FF6692\",\"#B6E880\",\"#FF97FF\",\"#FECB52\"],\"font\":{\"color\":\"#2a3f5f\"},\"hovermode\":\"closest\",\"hoverlabel\":{\"align\":\"left\"},\"paper_bgcolor\":\"white\",\"plot_bgcolor\":\"#E5ECF6\",\"polar\":{\"bgcolor\":\"#E5ECF6\",\"angularaxis\":{\"gridcolor\":\"white\",\"linecolor\":\"white\",\"ticks\":\"\"},\"radialaxis\":{\"gridcolor\":\"white\",\"linecolor\":\"white\",\"ticks\":\"\"}},\"ternary\":{\"bgcolor\":\"#E5ECF6\",\"aaxis\":{\"gridcolor\":\"white\",\"linecolor\":\"white\",\"ticks\":\"\"},\"baxis\":{\"gridcolor\":\"white\",\"linecolor\":\"white\",\"ticks\":\"\"},\"caxis\":{\"gridcolor\":\"white\",\"linecolor\":\"white\",\"ticks\":\"\"}},\"coloraxis\":{\"colorbar\":{\"outlinewidth\":0,\"ticks\":\"\"}},\"colorscale\":{\"sequential\":[[0.0,\"#0d0887\"],[0.1111111111111111,\"#46039f\"],[0.2222222222222222,\"#7201a8\"],[0.3333333333333333,\"#9c179e\"],[0.4444444444444444,\"#bd3786\"],[0.5555555555555556,\"#d8576b\"],[0.6666666666666666,\"#ed7953\"],[0.7777777777777778,\"#fb9f3a\"],[0.8888888888888888,\"#fdca26\"],[1.0,\"#f0f921\"]],\"sequentialminus\":[[0.0,\"#0d0887\"],[0.1111111111111111,\"#46039f\"],[0.2222222222222222,\"#7201a8\"],[0.3333333333333333,\"#9c179e\"],[0.4444444444444444,\"#bd3786\"],[0.5555555555555556,\"#d8576b\"],[0.6666666666666666,\"#ed7953\"],[0.7777777777777778,\"#fb9f3a\"],[0.8888888888888888,\"#fdca26\"],[1.0,\"#f0f921\"]],\"diverging\":[[0,\"#8e0152\"],[0.1,\"#c51b7d\"],[0.2,\"#de77ae\"],[0.3,\"#f1b6da\"],[0.4,\"#fde0ef\"],[0.5,\"#f7f7f7\"],[0.6,\"#e6f5d0\"],[0.7,\"#b8e186\"],[0.8,\"#7fbc41\"],[0.9,\"#4d9221\"],[1,\"#276419\"]]},\"xaxis\":{\"gridcolor\":\"white\",\"linecolor\":\"white\",\"ticks\":\"\",\"title\":{\"standoff\":15},\"zerolinecolor\":\"white\",\"automargin\":true,\"zerolinewidth\":2},\"yaxis\":{\"gridcolor\":\"white\",\"linecolor\":\"white\",\"ticks\":\"\",\"title\":{\"standoff\":15},\"zerolinecolor\":\"white\",\"automargin\":true,\"zerolinewidth\":2},\"scene\":{\"xaxis\":{\"backgroundcolor\":\"#E5ECF6\",\"gridcolor\":\"white\",\"linecolor\":\"white\",\"showbackground\":true,\"ticks\":\"\",\"zerolinecolor\":\"white\",\"gridwidth\":2},\"yaxis\":{\"backgroundcolor\":\"#E5ECF6\",\"gridcolor\":\"white\",\"linecolor\":\"white\",\"showbackground\":true,\"ticks\":\"\",\"zerolinecolor\":\"white\",\"gridwidth\":2},\"zaxis\":{\"backgroundcolor\":\"#E5ECF6\",\"gridcolor\":\"white\",\"linecolor\":\"white\",\"showbackground\":true,\"ticks\":\"\",\"zerolinecolor\":\"white\",\"gridwidth\":2}},\"shapedefaults\":{\"line\":{\"color\":\"#2a3f5f\"}},\"annotationdefaults\":{\"arrowcolor\":\"#2a3f5f\",\"arrowhead\":0,\"arrowwidth\":1},\"geo\":{\"bgcolor\":\"white\",\"landcolor\":\"#E5ECF6\",\"subunitcolor\":\"white\",\"showland\":true,\"showlakes\":true,\"lakecolor\":\"white\"},\"title\":{\"x\":0.05},\"mapbox\":{\"style\":\"light\"}}},\"xaxis\":{\"anchor\":\"y\",\"domain\":[0.0,0.45],\"title\":{\"text\":\"Age-Groups\",\"font\":{\"size\":16}},\"tickfont\":{\"size\":14}},\"yaxis\":{\"anchor\":\"x\",\"domain\":[0.0,1.0],\"title\":{\"text\":\"Count\",\"font\":{\"size\":16}},\"tickfont\":{\"size\":14}},\"annotations\":[{\"font\":{\"size\":16},\"showarrow\":false,\"text\":\"Bar Chart\",\"x\":0.225,\"xanchor\":\"center\",\"xref\":\"paper\",\"y\":1.0,\"yanchor\":\"bottom\",\"yref\":\"paper\"},{\"font\":{\"size\":16},\"showarrow\":false,\"text\":\"Pie Chart\",\"x\":0.775,\"xanchor\":\"center\",\"xref\":\"paper\",\"y\":1.0,\"yanchor\":\"bottom\",\"yref\":\"paper\"}],\"title\":{\"text\":\"Distribution of Age\"},\"showlegend\":false},                        {\"responsive\": true}                    ).then(function(){\n",
       "                            \n",
       "var gd = document.getElementById('c396f429-c99a-4e03-b08c-df08b8096757');\n",
       "var x = new MutationObserver(function (mutations, observer) {{\n",
       "        var display = window.getComputedStyle(gd).display;\n",
       "        if (!display || display === 'none') {{\n",
       "            console.log([gd, 'removed!']);\n",
       "            Plotly.purge(gd);\n",
       "            observer.disconnect();\n",
       "        }}\n",
       "}});\n",
       "\n",
       "// Listen for the removal of the full notebook cells\n",
       "var notebookContainer = gd.closest('#notebook-container');\n",
       "if (notebookContainer) {{\n",
       "    x.observe(notebookContainer, {childList: true});\n",
       "}}\n",
       "\n",
       "// Listen for the clearing of the current output cell\n",
       "var outputEl = gd.closest('.output');\n",
       "if (outputEl) {{\n",
       "    x.observe(outputEl, {childList: true});\n",
       "}}\n",
       "\n",
       "                        })                };                            </script>        </div>\n",
       "</body>\n",
       "</html>"
      ]
     },
     "metadata": {},
     "output_type": "display_data"
    }
   ],
   "source": [
    "colors = ['#3C4F76' , '#D1BEB0' , '#AB9F9D']\n",
    "labels = data['age_category'].value_counts().index\n",
    "values = data['age_category'].value_counts()\n",
    "\n",
    "# create pie chart\n",
    "\n",
    "pie_chart = go.Figure(go.Pie(labels = labels, values = values, ))\n",
    "pie_chart.update_traces(hoverinfo = 'label+value' , textinfo = 'percent', textfont_size = 20, \n",
    "                        marker = dict(colors = colors, line = dict( color = '#000000', width=2)))\n",
    "\n",
    "# Bar Chart\n",
    "\n",
    "bar_chart = go.Figure(go.Bar(x = labels, y = values, marker_color = colors))\n",
    "\n",
    "# create subplots\n",
    "\n",
    "fig = sp.make_subplots( rows = 1, cols = 2, column_width = [0.5,0.5], specs = [[{'type' : 'bar'}, {'type' : 'pie'}]],\n",
    "                      subplot_titles = (\"Bar Chart\", \"Pie Chart\"))\n",
    "\n",
    "# Add charts to subplots\n",
    "\n",
    "fig.add_trace(bar_chart.data[0], row=1, col=1)\n",
    "fig.add_trace(pie_chart.data[0], row=1, col=2)\n",
    "\n",
    "# Update layout\n",
    "fig.update_layout(showlegend=False,title_text=\"Distribution of Age\",\n",
    "                xaxis=dict(title='Age-Groups',titlefont_size=16,tickfont_size=14,),\n",
    "                yaxis=dict(title='Count',titlefont_size=16,tickfont_size=14,))\n",
    "\n",
    "# Show subplots\n",
    "fig.show()\n",
    "\n",
    "\n"
   ]
  }
 ],
 "metadata": {
  "kaggle": {
   "accelerator": "nvidiaTeslaT4",
   "dataSources": [],
   "dockerImageVersionId": 31090,
   "isGpuEnabled": true,
   "isInternetEnabled": true,
   "language": "python",
   "sourceType": "notebook"
  },
  "kernelspec": {
   "display_name": "Python 3",
   "language": "python",
   "name": "python3"
  },
  "language_info": {
   "codemirror_mode": {
    "name": "ipython",
    "version": 3
   },
   "file_extension": ".py",
   "mimetype": "text/x-python",
   "name": "python",
   "nbconvert_exporter": "python",
   "pygments_lexer": "ipython3",
   "version": "3.11.13"
  },
  "papermill": {
   "default_parameters": {},
   "duration": 12.413146,
   "end_time": "2025-08-24T06:37:24.013213",
   "environment_variables": {},
   "exception": null,
   "input_path": "__notebook__.ipynb",
   "output_path": "__notebook__.ipynb",
   "parameters": {},
   "start_time": "2025-08-24T06:37:11.600067",
   "version": "2.6.0"
  }
 },
 "nbformat": 4,
 "nbformat_minor": 5
}
